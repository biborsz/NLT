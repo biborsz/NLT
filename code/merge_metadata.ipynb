{
 "cells": [
  {
   "cell_type": "markdown",
   "metadata": {},
   "source": [
    "## Imports"
   ]
  },
  {
   "cell_type": "code",
   "execution_count": 1,
   "metadata": {},
   "outputs": [],
   "source": [
    "import pandas as pd\n",
    "import numpy as np"
   ]
  },
  {
   "cell_type": "markdown",
   "metadata": {},
   "source": [
    "## Read in data"
   ]
  },
  {
   "cell_type": "code",
   "execution_count": 2,
   "metadata": {},
   "outputs": [],
   "source": [
    "# Read in dataframes\n",
    "text = pd.read_csv('combined_df.csv', low_memory=False)\n",
    "articles = pd.read_csv('metadata.csv', low_memory=False)"
   ]
  },
  {
   "cell_type": "code",
   "execution_count": 3,
   "metadata": {},
   "outputs": [
    {
     "data": {
      "text/html": [
       "<div>\n",
       "<style scoped>\n",
       "    .dataframe tbody tr th:only-of-type {\n",
       "        vertical-align: middle;\n",
       "    }\n",
       "\n",
       "    .dataframe tbody tr th {\n",
       "        vertical-align: top;\n",
       "    }\n",
       "\n",
       "    .dataframe thead th {\n",
       "        text-align: right;\n",
       "    }\n",
       "</style>\n",
       "<table border=\"1\" class=\"dataframe\">\n",
       "  <thead>\n",
       "    <tr style=\"text-align: right;\">\n",
       "      <th></th>\n",
       "      <th>Unnamed: 0</th>\n",
       "      <th>paper_id</th>\n",
       "      <th>title</th>\n",
       "      <th>discussion</th>\n",
       "      <th>text_body</th>\n",
       "    </tr>\n",
       "  </thead>\n",
       "  <tbody>\n",
       "    <tr>\n",
       "      <th>0</th>\n",
       "      <td>0</td>\n",
       "      <td>d23435612750f9edf20673d47975786980fb98ee</td>\n",
       "      <td>The Flow Physics of COVID-19</td>\n",
       "      <td>NaN</td>\n",
       "      <td>Transmission of respiratory infections such as...</td>\n",
       "    </tr>\n",
       "    <tr>\n",
       "      <th>1</th>\n",
       "      <td>1</td>\n",
       "      <td>6b8271b465a5f5ce296ef370f4989a05b1d31833</td>\n",
       "      <td>THE SECOND WORLDWIDE WAVE OF INTEREST IN CORON...</td>\n",
       "      <td>The key finding is that GT forecasted the rise...</td>\n",
       "      <td>As of 7 pm Central European Time on 24 March, ...</td>\n",
       "    </tr>\n",
       "  </tbody>\n",
       "</table>\n",
       "</div>"
      ],
      "text/plain": [
       "   Unnamed: 0                                  paper_id  \\\n",
       "0           0  d23435612750f9edf20673d47975786980fb98ee   \n",
       "1           1  6b8271b465a5f5ce296ef370f4989a05b1d31833   \n",
       "\n",
       "                                               title  \\\n",
       "0                       The Flow Physics of COVID-19   \n",
       "1  THE SECOND WORLDWIDE WAVE OF INTEREST IN CORON...   \n",
       "\n",
       "                                          discussion  \\\n",
       "0                                                NaN   \n",
       "1  The key finding is that GT forecasted the rise...   \n",
       "\n",
       "                                           text_body  \n",
       "0  Transmission of respiratory infections such as...  \n",
       "1  As of 7 pm Central European Time on 24 March, ...  "
      ]
     },
     "execution_count": 3,
     "metadata": {},
     "output_type": "execute_result"
    }
   ],
   "source": [
    "text.head(2)"
   ]
  },
  {
   "cell_type": "code",
   "execution_count": 4,
   "metadata": {},
   "outputs": [
    {
     "data": {
      "text/html": [
       "<div>\n",
       "<style scoped>\n",
       "    .dataframe tbody tr th:only-of-type {\n",
       "        vertical-align: middle;\n",
       "    }\n",
       "\n",
       "    .dataframe tbody tr th {\n",
       "        vertical-align: top;\n",
       "    }\n",
       "\n",
       "    .dataframe thead th {\n",
       "        text-align: right;\n",
       "    }\n",
       "</style>\n",
       "<table border=\"1\" class=\"dataframe\">\n",
       "  <thead>\n",
       "    <tr style=\"text-align: right;\">\n",
       "      <th></th>\n",
       "      <th>cord_uid</th>\n",
       "      <th>sha</th>\n",
       "      <th>source_x</th>\n",
       "      <th>title</th>\n",
       "      <th>doi</th>\n",
       "      <th>pmcid</th>\n",
       "      <th>pubmed_id</th>\n",
       "      <th>license</th>\n",
       "      <th>abstract</th>\n",
       "      <th>publish_time</th>\n",
       "      <th>authors</th>\n",
       "      <th>journal</th>\n",
       "      <th>Microsoft Academic Paper ID</th>\n",
       "      <th>WHO #Covidence</th>\n",
       "      <th>arxiv_id</th>\n",
       "      <th>has_pdf_parse</th>\n",
       "      <th>has_pmc_xml_parse</th>\n",
       "      <th>full_text_file</th>\n",
       "      <th>url</th>\n",
       "    </tr>\n",
       "  </thead>\n",
       "  <tbody>\n",
       "    <tr>\n",
       "      <th>0</th>\n",
       "      <td>zjufx4fo</td>\n",
       "      <td>b2897e1277f56641193a6db73825f707eed3e4c9</td>\n",
       "      <td>PMC</td>\n",
       "      <td>Sequence requirements for RNA strand transfer ...</td>\n",
       "      <td>10.1093/emboj/20.24.7220</td>\n",
       "      <td>PMC125340</td>\n",
       "      <td>11742998.0</td>\n",
       "      <td>unk</td>\n",
       "      <td>Nidovirus subgenomic mRNAs contain a leader se...</td>\n",
       "      <td>2001-12-17</td>\n",
       "      <td>Pasternak, Alexander O.; van den Born, Erwin; ...</td>\n",
       "      <td>The EMBO Journal</td>\n",
       "      <td>NaN</td>\n",
       "      <td>NaN</td>\n",
       "      <td>NaN</td>\n",
       "      <td>True</td>\n",
       "      <td>True</td>\n",
       "      <td>custom_license</td>\n",
       "      <td>http://europepmc.org/articles/pmc125340?pdf=re...</td>\n",
       "    </tr>\n",
       "    <tr>\n",
       "      <th>1</th>\n",
       "      <td>ymceytj3</td>\n",
       "      <td>e3d0d482ebd9a8ba81c254cc433f314142e72174</td>\n",
       "      <td>PMC</td>\n",
       "      <td>Crystal structure of murine sCEACAM1a[1,4]: a ...</td>\n",
       "      <td>10.1093/emboj/21.9.2076</td>\n",
       "      <td>PMC125375</td>\n",
       "      <td>11980704.0</td>\n",
       "      <td>unk</td>\n",
       "      <td>CEACAM1 is a member of the carcinoembryonic an...</td>\n",
       "      <td>2002-05-01</td>\n",
       "      <td>Tan, Kemin; Zelus, Bruce D.; Meijers, Rob; Liu...</td>\n",
       "      <td>The EMBO Journal</td>\n",
       "      <td>NaN</td>\n",
       "      <td>NaN</td>\n",
       "      <td>NaN</td>\n",
       "      <td>True</td>\n",
       "      <td>True</td>\n",
       "      <td>custom_license</td>\n",
       "      <td>http://europepmc.org/articles/pmc125375?pdf=re...</td>\n",
       "    </tr>\n",
       "  </tbody>\n",
       "</table>\n",
       "</div>"
      ],
      "text/plain": [
       "   cord_uid                                       sha source_x  \\\n",
       "0  zjufx4fo  b2897e1277f56641193a6db73825f707eed3e4c9      PMC   \n",
       "1  ymceytj3  e3d0d482ebd9a8ba81c254cc433f314142e72174      PMC   \n",
       "\n",
       "                                               title  \\\n",
       "0  Sequence requirements for RNA strand transfer ...   \n",
       "1  Crystal structure of murine sCEACAM1a[1,4]: a ...   \n",
       "\n",
       "                        doi      pmcid   pubmed_id license  \\\n",
       "0  10.1093/emboj/20.24.7220  PMC125340  11742998.0     unk   \n",
       "1   10.1093/emboj/21.9.2076  PMC125375  11980704.0     unk   \n",
       "\n",
       "                                            abstract publish_time  \\\n",
       "0  Nidovirus subgenomic mRNAs contain a leader se...   2001-12-17   \n",
       "1  CEACAM1 is a member of the carcinoembryonic an...   2002-05-01   \n",
       "\n",
       "                                             authors           journal  \\\n",
       "0  Pasternak, Alexander O.; van den Born, Erwin; ...  The EMBO Journal   \n",
       "1  Tan, Kemin; Zelus, Bruce D.; Meijers, Rob; Liu...  The EMBO Journal   \n",
       "\n",
       "   Microsoft Academic Paper ID WHO #Covidence arxiv_id  has_pdf_parse  \\\n",
       "0                          NaN            NaN      NaN           True   \n",
       "1                          NaN            NaN      NaN           True   \n",
       "\n",
       "   has_pmc_xml_parse  full_text_file  \\\n",
       "0               True  custom_license   \n",
       "1               True  custom_license   \n",
       "\n",
       "                                                 url  \n",
       "0  http://europepmc.org/articles/pmc125340?pdf=re...  \n",
       "1  http://europepmc.org/articles/pmc125375?pdf=re...  "
      ]
     },
     "execution_count": 4,
     "metadata": {},
     "output_type": "execute_result"
    }
   ],
   "source": [
    "articles.head(2)"
   ]
  },
  {
   "cell_type": "markdown",
   "metadata": {},
   "source": [
    "## Check for missing values"
   ]
  },
  {
   "cell_type": "code",
   "execution_count": 5,
   "metadata": {},
   "outputs": [
    {
     "data": {
      "text/plain": [
       "(41564, 5)"
      ]
     },
     "execution_count": 5,
     "metadata": {},
     "output_type": "execute_result"
    }
   ],
   "source": [
    "# Number of rows\n",
    "text.shape"
   ]
  },
  {
   "cell_type": "code",
   "execution_count": 6,
   "metadata": {},
   "outputs": [
    {
     "data": {
      "text/plain": [
       "Unnamed: 0        0\n",
       "paper_id          0\n",
       "title          4364\n",
       "discussion    24099\n",
       "text_body         0\n",
       "dtype: int64"
      ]
     },
     "execution_count": 6,
     "metadata": {},
     "output_type": "execute_result"
    }
   ],
   "source": [
    "# Check for missing values\n",
    "text.isnull().sum()"
   ]
  },
  {
   "cell_type": "code",
   "execution_count": 7,
   "metadata": {},
   "outputs": [
    {
     "data": {
      "text/plain": [
       "(59887, 19)"
      ]
     },
     "execution_count": 7,
     "metadata": {},
     "output_type": "execute_result"
    }
   ],
   "source": [
    "# Number of rows \n",
    "articles.shape"
   ]
  },
  {
   "cell_type": "code",
   "execution_count": 8,
   "metadata": {},
   "outputs": [
    {
     "data": {
      "text/plain": [
       "cord_uid                           0\n",
       "sha                            14124\n",
       "source_x                           0\n",
       "title                            163\n",
       "doi                             4086\n",
       "pmcid                          11748\n",
       "pubmed_id                      18559\n",
       "license                            0\n",
       "abstract                       11130\n",
       "publish_time                       8\n",
       "authors                         2591\n",
       "journal                         7059\n",
       "Microsoft Academic Paper ID    58923\n",
       "WHO #Covidence                 58119\n",
       "arxiv_id                       59211\n",
       "has_pdf_parse                      0\n",
       "has_pmc_xml_parse                  0\n",
       "full_text_file                  8461\n",
       "url                              440\n",
       "dtype: int64"
      ]
     },
     "execution_count": 8,
     "metadata": {},
     "output_type": "execute_result"
    }
   ],
   "source": [
    "# Check for missing values\n",
    "articles.isnull().sum()"
   ]
  },
  {
   "cell_type": "markdown",
   "metadata": {},
   "source": [
    "## Join dataframes on title column"
   ]
  },
  {
   "cell_type": "code",
   "execution_count": 9,
   "metadata": {},
   "outputs": [],
   "source": [
    "# Inner join on sha and paper ID\n",
    "coronavirus = pd.merge(articles, text, how='inner', left_on='sha', right_on='paper_id')"
   ]
  },
  {
   "cell_type": "code",
   "execution_count": 10,
   "metadata": {},
   "outputs": [
    {
     "data": {
      "text/plain": [
       "(37571, 24)"
      ]
     },
     "execution_count": 10,
     "metadata": {},
     "output_type": "execute_result"
    }
   ],
   "source": [
    "# Check number of rows\n",
    "coronavirus.shape"
   ]
  },
  {
   "cell_type": "code",
   "execution_count": 11,
   "metadata": {},
   "outputs": [
    {
     "data": {
      "text/html": [
       "<div>\n",
       "<style scoped>\n",
       "    .dataframe tbody tr th:only-of-type {\n",
       "        vertical-align: middle;\n",
       "    }\n",
       "\n",
       "    .dataframe tbody tr th {\n",
       "        vertical-align: top;\n",
       "    }\n",
       "\n",
       "    .dataframe thead th {\n",
       "        text-align: right;\n",
       "    }\n",
       "</style>\n",
       "<table border=\"1\" class=\"dataframe\">\n",
       "  <thead>\n",
       "    <tr style=\"text-align: right;\">\n",
       "      <th></th>\n",
       "      <th>cord_uid</th>\n",
       "      <th>sha</th>\n",
       "      <th>source_x</th>\n",
       "      <th>title_x</th>\n",
       "      <th>doi</th>\n",
       "      <th>pmcid</th>\n",
       "      <th>pubmed_id</th>\n",
       "      <th>license</th>\n",
       "      <th>abstract</th>\n",
       "      <th>publish_time</th>\n",
       "      <th>...</th>\n",
       "      <th>arxiv_id</th>\n",
       "      <th>has_pdf_parse</th>\n",
       "      <th>has_pmc_xml_parse</th>\n",
       "      <th>full_text_file</th>\n",
       "      <th>url</th>\n",
       "      <th>Unnamed: 0</th>\n",
       "      <th>paper_id</th>\n",
       "      <th>title_y</th>\n",
       "      <th>discussion</th>\n",
       "      <th>text_body</th>\n",
       "    </tr>\n",
       "  </thead>\n",
       "  <tbody>\n",
       "    <tr>\n",
       "      <th>0</th>\n",
       "      <td>zjufx4fo</td>\n",
       "      <td>b2897e1277f56641193a6db73825f707eed3e4c9</td>\n",
       "      <td>PMC</td>\n",
       "      <td>Sequence requirements for RNA strand transfer ...</td>\n",
       "      <td>10.1093/emboj/20.24.7220</td>\n",
       "      <td>PMC125340</td>\n",
       "      <td>11742998.0</td>\n",
       "      <td>unk</td>\n",
       "      <td>Nidovirus subgenomic mRNAs contain a leader se...</td>\n",
       "      <td>2001-12-17</td>\n",
       "      <td>...</td>\n",
       "      <td>NaN</td>\n",
       "      <td>True</td>\n",
       "      <td>True</td>\n",
       "      <td>custom_license</td>\n",
       "      <td>http://europepmc.org/articles/pmc125340?pdf=re...</td>\n",
       "      <td>22114</td>\n",
       "      <td>b2897e1277f56641193a6db73825f707eed3e4c9</td>\n",
       "      <td>NaN</td>\n",
       "      <td>NaN</td>\n",
       "      <td>The genetic information of RNA viruses is orga...</td>\n",
       "    </tr>\n",
       "    <tr>\n",
       "      <th>1</th>\n",
       "      <td>ymceytj3</td>\n",
       "      <td>e3d0d482ebd9a8ba81c254cc433f314142e72174</td>\n",
       "      <td>PMC</td>\n",
       "      <td>Crystal structure of murine sCEACAM1a[1,4]: a ...</td>\n",
       "      <td>10.1093/emboj/21.9.2076</td>\n",
       "      <td>PMC125375</td>\n",
       "      <td>11980704.0</td>\n",
       "      <td>unk</td>\n",
       "      <td>CEACAM1 is a member of the carcinoembryonic an...</td>\n",
       "      <td>2002-05-01</td>\n",
       "      <td>...</td>\n",
       "      <td>NaN</td>\n",
       "      <td>True</td>\n",
       "      <td>True</td>\n",
       "      <td>custom_license</td>\n",
       "      <td>http://europepmc.org/articles/pmc125375?pdf=re...</td>\n",
       "      <td>15547</td>\n",
       "      <td>e3d0d482ebd9a8ba81c254cc433f314142e72174</td>\n",
       "      <td>NaN</td>\n",
       "      <td>NaN</td>\n",
       "      <td>Carcinoembryonic antigen (CEA; CD66e) was init...</td>\n",
       "    </tr>\n",
       "  </tbody>\n",
       "</table>\n",
       "<p>2 rows × 24 columns</p>\n",
       "</div>"
      ],
      "text/plain": [
       "   cord_uid                                       sha source_x  \\\n",
       "0  zjufx4fo  b2897e1277f56641193a6db73825f707eed3e4c9      PMC   \n",
       "1  ymceytj3  e3d0d482ebd9a8ba81c254cc433f314142e72174      PMC   \n",
       "\n",
       "                                             title_x  \\\n",
       "0  Sequence requirements for RNA strand transfer ...   \n",
       "1  Crystal structure of murine sCEACAM1a[1,4]: a ...   \n",
       "\n",
       "                        doi      pmcid   pubmed_id license  \\\n",
       "0  10.1093/emboj/20.24.7220  PMC125340  11742998.0     unk   \n",
       "1   10.1093/emboj/21.9.2076  PMC125375  11980704.0     unk   \n",
       "\n",
       "                                            abstract publish_time  ...  \\\n",
       "0  Nidovirus subgenomic mRNAs contain a leader se...   2001-12-17  ...   \n",
       "1  CEACAM1 is a member of the carcinoembryonic an...   2002-05-01  ...   \n",
       "\n",
       "  arxiv_id has_pdf_parse  has_pmc_xml_parse  full_text_file  \\\n",
       "0      NaN          True               True  custom_license   \n",
       "1      NaN          True               True  custom_license   \n",
       "\n",
       "                                                 url  Unnamed: 0  \\\n",
       "0  http://europepmc.org/articles/pmc125340?pdf=re...       22114   \n",
       "1  http://europepmc.org/articles/pmc125375?pdf=re...       15547   \n",
       "\n",
       "                                   paper_id title_y discussion  \\\n",
       "0  b2897e1277f56641193a6db73825f707eed3e4c9     NaN        NaN   \n",
       "1  e3d0d482ebd9a8ba81c254cc433f314142e72174     NaN        NaN   \n",
       "\n",
       "                                           text_body  \n",
       "0  The genetic information of RNA viruses is orga...  \n",
       "1  Carcinoembryonic antigen (CEA; CD66e) was init...  \n",
       "\n",
       "[2 rows x 24 columns]"
      ]
     },
     "execution_count": 11,
     "metadata": {},
     "output_type": "execute_result"
    }
   ],
   "source": [
    "coronavirus.head(2)"
   ]
  },
  {
   "cell_type": "code",
   "execution_count": 12,
   "metadata": {},
   "outputs": [
    {
     "data": {
      "text/plain": [
       "cord_uid                           0\n",
       "sha                                0\n",
       "source_x                           0\n",
       "title_x                            9\n",
       "doi                              970\n",
       "pmcid                           7362\n",
       "pubmed_id                      11818\n",
       "license                            0\n",
       "abstract                        5024\n",
       "publish_time                       0\n",
       "authors                          438\n",
       "journal                         3441\n",
       "Microsoft Academic Paper ID    37217\n",
       "WHO #Covidence                 37054\n",
       "arxiv_id                       36970\n",
       "has_pdf_parse                      0\n",
       "has_pmc_xml_parse                  0\n",
       "full_text_file                     0\n",
       "url                              119\n",
       "Unnamed: 0                         0\n",
       "paper_id                           0\n",
       "title_y                         4071\n",
       "discussion                     21950\n",
       "text_body                          0\n",
       "dtype: int64"
      ]
     },
     "execution_count": 12,
     "metadata": {},
     "output_type": "execute_result"
    }
   ],
   "source": [
    "# Check for missing values\n",
    "coronavirus.isnull().sum()"
   ]
  },
  {
   "cell_type": "markdown",
   "metadata": {},
   "source": [
    "## Drop unused rows and columns"
   ]
  },
  {
   "cell_type": "code",
   "execution_count": 13,
   "metadata": {},
   "outputs": [],
   "source": [
    "# Drop unused columns\n",
    "coronavirus.drop(columns=['cord_uid', 'doi', 'pmcid', 'pubmed_id', 'license', 'Microsoft Academic Paper ID',\n",
    "                          'WHO #Covidence', 'arxiv_id', 'has_pdf_parse', 'has_pmc_xml_parse', 'full_text_file',\n",
    "                          'Unnamed: 0', 'paper_id'], inplace=True)"
   ]
  },
  {
   "cell_type": "code",
   "execution_count": 14,
   "metadata": {},
   "outputs": [
    {
     "data": {
      "text/html": [
       "<div>\n",
       "<style scoped>\n",
       "    .dataframe tbody tr th:only-of-type {\n",
       "        vertical-align: middle;\n",
       "    }\n",
       "\n",
       "    .dataframe tbody tr th {\n",
       "        vertical-align: top;\n",
       "    }\n",
       "\n",
       "    .dataframe thead th {\n",
       "        text-align: right;\n",
       "    }\n",
       "</style>\n",
       "<table border=\"1\" class=\"dataframe\">\n",
       "  <thead>\n",
       "    <tr style=\"text-align: right;\">\n",
       "      <th></th>\n",
       "      <th>sha</th>\n",
       "      <th>source_x</th>\n",
       "      <th>title_x</th>\n",
       "      <th>abstract</th>\n",
       "      <th>publish_time</th>\n",
       "      <th>authors</th>\n",
       "      <th>journal</th>\n",
       "      <th>url</th>\n",
       "      <th>title_y</th>\n",
       "      <th>discussion</th>\n",
       "      <th>text_body</th>\n",
       "    </tr>\n",
       "  </thead>\n",
       "  <tbody>\n",
       "    <tr>\n",
       "      <th>0</th>\n",
       "      <td>b2897e1277f56641193a6db73825f707eed3e4c9</td>\n",
       "      <td>PMC</td>\n",
       "      <td>Sequence requirements for RNA strand transfer ...</td>\n",
       "      <td>Nidovirus subgenomic mRNAs contain a leader se...</td>\n",
       "      <td>2001-12-17</td>\n",
       "      <td>Pasternak, Alexander O.; van den Born, Erwin; ...</td>\n",
       "      <td>The EMBO Journal</td>\n",
       "      <td>http://europepmc.org/articles/pmc125340?pdf=re...</td>\n",
       "      <td>NaN</td>\n",
       "      <td>NaN</td>\n",
       "      <td>The genetic information of RNA viruses is orga...</td>\n",
       "    </tr>\n",
       "    <tr>\n",
       "      <th>1</th>\n",
       "      <td>e3d0d482ebd9a8ba81c254cc433f314142e72174</td>\n",
       "      <td>PMC</td>\n",
       "      <td>Crystal structure of murine sCEACAM1a[1,4]: a ...</td>\n",
       "      <td>CEACAM1 is a member of the carcinoembryonic an...</td>\n",
       "      <td>2002-05-01</td>\n",
       "      <td>Tan, Kemin; Zelus, Bruce D.; Meijers, Rob; Liu...</td>\n",
       "      <td>The EMBO Journal</td>\n",
       "      <td>http://europepmc.org/articles/pmc125375?pdf=re...</td>\n",
       "      <td>NaN</td>\n",
       "      <td>NaN</td>\n",
       "      <td>Carcinoembryonic antigen (CEA; CD66e) was init...</td>\n",
       "    </tr>\n",
       "  </tbody>\n",
       "</table>\n",
       "</div>"
      ],
      "text/plain": [
       "                                        sha source_x  \\\n",
       "0  b2897e1277f56641193a6db73825f707eed3e4c9      PMC   \n",
       "1  e3d0d482ebd9a8ba81c254cc433f314142e72174      PMC   \n",
       "\n",
       "                                             title_x  \\\n",
       "0  Sequence requirements for RNA strand transfer ...   \n",
       "1  Crystal structure of murine sCEACAM1a[1,4]: a ...   \n",
       "\n",
       "                                            abstract publish_time  \\\n",
       "0  Nidovirus subgenomic mRNAs contain a leader se...   2001-12-17   \n",
       "1  CEACAM1 is a member of the carcinoembryonic an...   2002-05-01   \n",
       "\n",
       "                                             authors           journal  \\\n",
       "0  Pasternak, Alexander O.; van den Born, Erwin; ...  The EMBO Journal   \n",
       "1  Tan, Kemin; Zelus, Bruce D.; Meijers, Rob; Liu...  The EMBO Journal   \n",
       "\n",
       "                                                 url title_y discussion  \\\n",
       "0  http://europepmc.org/articles/pmc125340?pdf=re...     NaN        NaN   \n",
       "1  http://europepmc.org/articles/pmc125375?pdf=re...     NaN        NaN   \n",
       "\n",
       "                                           text_body  \n",
       "0  The genetic information of RNA viruses is orga...  \n",
       "1  Carcinoembryonic antigen (CEA; CD66e) was init...  "
      ]
     },
     "execution_count": 14,
     "metadata": {},
     "output_type": "execute_result"
    }
   ],
   "source": [
    "coronavirus.head(2)"
   ]
  },
  {
   "cell_type": "code",
   "execution_count": 15,
   "metadata": {
    "scrolled": true
   },
   "outputs": [
    {
     "data": {
      "text/html": [
       "<div>\n",
       "<style scoped>\n",
       "    .dataframe tbody tr th:only-of-type {\n",
       "        vertical-align: middle;\n",
       "    }\n",
       "\n",
       "    .dataframe tbody tr th {\n",
       "        vertical-align: top;\n",
       "    }\n",
       "\n",
       "    .dataframe thead th {\n",
       "        text-align: right;\n",
       "    }\n",
       "</style>\n",
       "<table border=\"1\" class=\"dataframe\">\n",
       "  <thead>\n",
       "    <tr style=\"text-align: right;\">\n",
       "      <th></th>\n",
       "      <th>sha</th>\n",
       "      <th>source_x</th>\n",
       "      <th>title_x</th>\n",
       "      <th>abstract</th>\n",
       "      <th>publish_time</th>\n",
       "      <th>authors</th>\n",
       "      <th>journal</th>\n",
       "      <th>url</th>\n",
       "      <th>title_y</th>\n",
       "      <th>discussion</th>\n",
       "      <th>text_body</th>\n",
       "    </tr>\n",
       "  </thead>\n",
       "  <tbody>\n",
       "    <tr>\n",
       "      <th>19216</th>\n",
       "      <td>bdfee1e149cda6e1d449de68cd48d17897015101</td>\n",
       "      <td>Elsevier</td>\n",
       "      <td>NaN</td>\n",
       "      <td>Unknown</td>\n",
       "      <td>2011-12-31</td>\n",
       "      <td>NaN</td>\n",
       "      <td>Treatise on Estuarine and Coastal Science</td>\n",
       "      <td>https://doi.org/10.1016/b978-0-12-374711-2.090...</td>\n",
       "      <td>SUBJECT INDEX Notes</td>\n",
       "      <td>NaN</td>\n",
       "      <td>natural hazards, 12: 272 nitrogen cycling, 5: ...</td>\n",
       "    </tr>\n",
       "    <tr>\n",
       "      <th>19217</th>\n",
       "      <td>d9b6d041197762c390ca9397ef6c778693bcba15</td>\n",
       "      <td>Elsevier</td>\n",
       "      <td>NaN</td>\n",
       "      <td>Unknown</td>\n",
       "      <td>2012-12-31</td>\n",
       "      <td>NaN</td>\n",
       "      <td>Comprehensive Biophysics</td>\n",
       "      <td>https://doi.org/10.1016/b978-0-12-374920-8.090...</td>\n",
       "      <td>NaN</td>\n",
       "      <td>NaN</td>\n",
       "      <td>Cross-reference terms in italic are general cr...</td>\n",
       "    </tr>\n",
       "    <tr>\n",
       "      <th>19322</th>\n",
       "      <td>106db157fd5d6ee766feabadf0d35a24d6d37895</td>\n",
       "      <td>Elsevier</td>\n",
       "      <td>NaN</td>\n",
       "      <td>Unknown</td>\n",
       "      <td>2008-12-31</td>\n",
       "      <td>NaN</td>\n",
       "      <td>Travel Medicine</td>\n",
       "      <td>https://doi.org/10.1016/b978-0-323-03453-1.100...</td>\n",
       "      <td>AFRICAN TRYPANOSOMIASIS (SLEEPING SICKNESS) Ep...</td>\n",
       "      <td>NaN</td>\n",
       "      <td>insect-borne and transfusion-associated transm...</td>\n",
       "    </tr>\n",
       "    <tr>\n",
       "      <th>19355</th>\n",
       "      <td>0b87046abff5d934edc840da7e39a09ced213d7e</td>\n",
       "      <td>Elsevier</td>\n",
       "      <td>NaN</td>\n",
       "      <td>Unknown</td>\n",
       "      <td>2014-12-31</td>\n",
       "      <td>NaN</td>\n",
       "      <td>Encyclopedia of Agriculture and Food Systems</td>\n",
       "      <td>https://doi.org/10.1016/b978-0-444-52512-3.090...</td>\n",
       "      <td>NaN</td>\n",
       "      <td>NaN</td>\n",
       "      <td>industry-level analysis 1:54-56 market structu...</td>\n",
       "    </tr>\n",
       "    <tr>\n",
       "      <th>19460</th>\n",
       "      <td>48b0dfada83cdf2b9a3de65a15ef635cff2b505b</td>\n",
       "      <td>Elsevier</td>\n",
       "      <td>NaN</td>\n",
       "      <td>Unknown</td>\n",
       "      <td>2008-12-31</td>\n",
       "      <td>NaN</td>\n",
       "      <td>Pediatric Emergency Medicine</td>\n",
       "      <td>https://doi.org/10.1016/b978-141600087-7.50204-x</td>\n",
       "      <td>NaN</td>\n",
       "      <td>NaN</td>\n",
       "      <td>ABCDs of resuscitation and, 9-12 asphyxial, 95...</td>\n",
       "    </tr>\n",
       "    <tr>\n",
       "      <th>19463</th>\n",
       "      <td>dedd72d0a6bc6cc0d065b2755ef5b52880c29989</td>\n",
       "      <td>Elsevier</td>\n",
       "      <td>NaN</td>\n",
       "      <td>Unknown</td>\n",
       "      <td>2007-12-31</td>\n",
       "      <td>NaN</td>\n",
       "      <td>Equine Infectious Diseases</td>\n",
       "      <td>https://doi.org/10.1016/b978-1-4160-2406-4.500...</td>\n",
       "      <td>NaN</td>\n",
       "      <td>NaN</td>\n",
       "      <td>. See also under individual diseases. employee...</td>\n",
       "    </tr>\n",
       "    <tr>\n",
       "      <th>20229</th>\n",
       "      <td>05389a55ca4f5de2b1c3ee206d75d3574313d684</td>\n",
       "      <td>Elsevier</td>\n",
       "      <td>NaN</td>\n",
       "      <td>NaN</td>\n",
       "      <td>2020-03-31</td>\n",
       "      <td>Eccles, Ron</td>\n",
       "      <td>Journal of Hospital Infection</td>\n",
       "      <td>https://doi.org/10.1016/j.jhin.2020.03.026</td>\n",
       "      <td>NaN</td>\n",
       "      <td>NaN</td>\n",
       "      <td>When considering the persistence of viruses on...</td>\n",
       "    </tr>\n",
       "    <tr>\n",
       "      <th>21695</th>\n",
       "      <td>fdd1978e558dd4d78be3f032f06959ba521db5e8</td>\n",
       "      <td>Elsevier</td>\n",
       "      <td>NaN</td>\n",
       "      <td>NaN</td>\n",
       "      <td>2018-04-30</td>\n",
       "      <td>Greenberg, Harry B.; Griffin, Diane E.</td>\n",
       "      <td>Current Opinion in Virology</td>\n",
       "      <td>https://doi.org/10.1016/j.coviro.2018.04.005</td>\n",
       "      <td>NaN</td>\n",
       "      <td>NaN</td>\n",
       "      <td>Viruses have and will continue to play a major...</td>\n",
       "    </tr>\n",
       "    <tr>\n",
       "      <th>21828</th>\n",
       "      <td>9f089d009338c25da7711ee4e6336ebdcad42a7a</td>\n",
       "      <td>Elsevier</td>\n",
       "      <td>NaN</td>\n",
       "      <td>NaN</td>\n",
       "      <td>2020-04-22</td>\n",
       "      <td>Shaker, Marcus S.; Oppenheimer, John; Grayson,...</td>\n",
       "      <td>The Journal of Allergy and Clinical Immunology...</td>\n",
       "      <td>https://doi.org/10.1016/j.jaip.2020.04.016</td>\n",
       "      <td>NaN</td>\n",
       "      <td>NaN</td>\n",
       "      <td>To the Editor:We appreciate the comments and p...</td>\n",
       "    </tr>\n",
       "  </tbody>\n",
       "</table>\n",
       "</div>"
      ],
      "text/plain": [
       "                                            sha  source_x title_x abstract  \\\n",
       "19216  bdfee1e149cda6e1d449de68cd48d17897015101  Elsevier     NaN  Unknown   \n",
       "19217  d9b6d041197762c390ca9397ef6c778693bcba15  Elsevier     NaN  Unknown   \n",
       "19322  106db157fd5d6ee766feabadf0d35a24d6d37895  Elsevier     NaN  Unknown   \n",
       "19355  0b87046abff5d934edc840da7e39a09ced213d7e  Elsevier     NaN  Unknown   \n",
       "19460  48b0dfada83cdf2b9a3de65a15ef635cff2b505b  Elsevier     NaN  Unknown   \n",
       "19463  dedd72d0a6bc6cc0d065b2755ef5b52880c29989  Elsevier     NaN  Unknown   \n",
       "20229  05389a55ca4f5de2b1c3ee206d75d3574313d684  Elsevier     NaN      NaN   \n",
       "21695  fdd1978e558dd4d78be3f032f06959ba521db5e8  Elsevier     NaN      NaN   \n",
       "21828  9f089d009338c25da7711ee4e6336ebdcad42a7a  Elsevier     NaN      NaN   \n",
       "\n",
       "      publish_time                                            authors  \\\n",
       "19216   2011-12-31                                                NaN   \n",
       "19217   2012-12-31                                                NaN   \n",
       "19322   2008-12-31                                                NaN   \n",
       "19355   2014-12-31                                                NaN   \n",
       "19460   2008-12-31                                                NaN   \n",
       "19463   2007-12-31                                                NaN   \n",
       "20229   2020-03-31                                        Eccles, Ron   \n",
       "21695   2018-04-30             Greenberg, Harry B.; Griffin, Diane E.   \n",
       "21828   2020-04-22  Shaker, Marcus S.; Oppenheimer, John; Grayson,...   \n",
       "\n",
       "                                                 journal  \\\n",
       "19216          Treatise on Estuarine and Coastal Science   \n",
       "19217                           Comprehensive Biophysics   \n",
       "19322                                    Travel Medicine   \n",
       "19355       Encyclopedia of Agriculture and Food Systems   \n",
       "19460                       Pediatric Emergency Medicine   \n",
       "19463                         Equine Infectious Diseases   \n",
       "20229                      Journal of Hospital Infection   \n",
       "21695                        Current Opinion in Virology   \n",
       "21828  The Journal of Allergy and Clinical Immunology...   \n",
       "\n",
       "                                                     url  \\\n",
       "19216  https://doi.org/10.1016/b978-0-12-374711-2.090...   \n",
       "19217  https://doi.org/10.1016/b978-0-12-374920-8.090...   \n",
       "19322  https://doi.org/10.1016/b978-0-323-03453-1.100...   \n",
       "19355  https://doi.org/10.1016/b978-0-444-52512-3.090...   \n",
       "19460   https://doi.org/10.1016/b978-141600087-7.50204-x   \n",
       "19463  https://doi.org/10.1016/b978-1-4160-2406-4.500...   \n",
       "20229         https://doi.org/10.1016/j.jhin.2020.03.026   \n",
       "21695       https://doi.org/10.1016/j.coviro.2018.04.005   \n",
       "21828         https://doi.org/10.1016/j.jaip.2020.04.016   \n",
       "\n",
       "                                                 title_y discussion  \\\n",
       "19216                                SUBJECT INDEX Notes        NaN   \n",
       "19217                                                NaN        NaN   \n",
       "19322  AFRICAN TRYPANOSOMIASIS (SLEEPING SICKNESS) Ep...        NaN   \n",
       "19355                                                NaN        NaN   \n",
       "19460                                                NaN        NaN   \n",
       "19463                                                NaN        NaN   \n",
       "20229                                                NaN        NaN   \n",
       "21695                                                NaN        NaN   \n",
       "21828                                                NaN        NaN   \n",
       "\n",
       "                                               text_body  \n",
       "19216  natural hazards, 12: 272 nitrogen cycling, 5: ...  \n",
       "19217  Cross-reference terms in italic are general cr...  \n",
       "19322  insect-borne and transfusion-associated transm...  \n",
       "19355  industry-level analysis 1:54-56 market structu...  \n",
       "19460  ABCDs of resuscitation and, 9-12 asphyxial, 95...  \n",
       "19463  . See also under individual diseases. employee...  \n",
       "20229  When considering the persistence of viruses on...  \n",
       "21695  Viruses have and will continue to play a major...  \n",
       "21828  To the Editor:We appreciate the comments and p...  "
      ]
     },
     "execution_count": 15,
     "metadata": {},
     "output_type": "execute_result"
    }
   ],
   "source": [
    "# Look at the rows with 9 missing titles\n",
    "coronavirus[coronavirus['title_x'].isnull()]"
   ]
  },
  {
   "cell_type": "code",
   "execution_count": 16,
   "metadata": {},
   "outputs": [],
   "source": [
    "# Since those 9 rows have a lot of missing values, we decided to drop them\n",
    "coronavirus.dropna(subset=['title_x'], inplace=True)"
   ]
  },
  {
   "cell_type": "code",
   "execution_count": 17,
   "metadata": {},
   "outputs": [
    {
     "data": {
      "text/plain": [
       "0"
      ]
     },
     "execution_count": 17,
     "metadata": {},
     "output_type": "execute_result"
    }
   ],
   "source": [
    "coronavirus['title_x'].isnull().sum()"
   ]
  },
  {
   "cell_type": "code",
   "execution_count": 18,
   "metadata": {},
   "outputs": [],
   "source": [
    "# Drop second title col\n",
    "coronavirus.drop(columns='title_y', inplace=True)\n",
    "\n",
    "# Rename sha, souce_x, and title_x cols\n",
    "coronavirus.rename(columns={'sha': 'paper_id',\n",
    "                            'source_x': 'source',\n",
    "                            'title_x': 'title'},\n",
    "                   inplace=True)"
   ]
  },
  {
   "cell_type": "code",
   "execution_count": 19,
   "metadata": {
    "scrolled": true
   },
   "outputs": [
    {
     "data": {
      "text/html": [
       "<div>\n",
       "<style scoped>\n",
       "    .dataframe tbody tr th:only-of-type {\n",
       "        vertical-align: middle;\n",
       "    }\n",
       "\n",
       "    .dataframe tbody tr th {\n",
       "        vertical-align: top;\n",
       "    }\n",
       "\n",
       "    .dataframe thead th {\n",
       "        text-align: right;\n",
       "    }\n",
       "</style>\n",
       "<table border=\"1\" class=\"dataframe\">\n",
       "  <thead>\n",
       "    <tr style=\"text-align: right;\">\n",
       "      <th></th>\n",
       "      <th>paper_id</th>\n",
       "      <th>source</th>\n",
       "      <th>title</th>\n",
       "      <th>abstract</th>\n",
       "      <th>publish_time</th>\n",
       "      <th>authors</th>\n",
       "      <th>journal</th>\n",
       "      <th>url</th>\n",
       "      <th>discussion</th>\n",
       "      <th>text_body</th>\n",
       "    </tr>\n",
       "  </thead>\n",
       "  <tbody>\n",
       "    <tr>\n",
       "      <th>0</th>\n",
       "      <td>b2897e1277f56641193a6db73825f707eed3e4c9</td>\n",
       "      <td>PMC</td>\n",
       "      <td>Sequence requirements for RNA strand transfer ...</td>\n",
       "      <td>Nidovirus subgenomic mRNAs contain a leader se...</td>\n",
       "      <td>2001-12-17</td>\n",
       "      <td>Pasternak, Alexander O.; van den Born, Erwin; ...</td>\n",
       "      <td>The EMBO Journal</td>\n",
       "      <td>http://europepmc.org/articles/pmc125340?pdf=re...</td>\n",
       "      <td>NaN</td>\n",
       "      <td>The genetic information of RNA viruses is orga...</td>\n",
       "    </tr>\n",
       "    <tr>\n",
       "      <th>1</th>\n",
       "      <td>e3d0d482ebd9a8ba81c254cc433f314142e72174</td>\n",
       "      <td>PMC</td>\n",
       "      <td>Crystal structure of murine sCEACAM1a[1,4]: a ...</td>\n",
       "      <td>CEACAM1 is a member of the carcinoembryonic an...</td>\n",
       "      <td>2002-05-01</td>\n",
       "      <td>Tan, Kemin; Zelus, Bruce D.; Meijers, Rob; Liu...</td>\n",
       "      <td>The EMBO Journal</td>\n",
       "      <td>http://europepmc.org/articles/pmc125375?pdf=re...</td>\n",
       "      <td>NaN</td>\n",
       "      <td>Carcinoembryonic antigen (CEA; CD66e) was init...</td>\n",
       "    </tr>\n",
       "  </tbody>\n",
       "</table>\n",
       "</div>"
      ],
      "text/plain": [
       "                                   paper_id source  \\\n",
       "0  b2897e1277f56641193a6db73825f707eed3e4c9    PMC   \n",
       "1  e3d0d482ebd9a8ba81c254cc433f314142e72174    PMC   \n",
       "\n",
       "                                               title  \\\n",
       "0  Sequence requirements for RNA strand transfer ...   \n",
       "1  Crystal structure of murine sCEACAM1a[1,4]: a ...   \n",
       "\n",
       "                                            abstract publish_time  \\\n",
       "0  Nidovirus subgenomic mRNAs contain a leader se...   2001-12-17   \n",
       "1  CEACAM1 is a member of the carcinoembryonic an...   2002-05-01   \n",
       "\n",
       "                                             authors           journal  \\\n",
       "0  Pasternak, Alexander O.; van den Born, Erwin; ...  The EMBO Journal   \n",
       "1  Tan, Kemin; Zelus, Bruce D.; Meijers, Rob; Liu...  The EMBO Journal   \n",
       "\n",
       "                                                 url discussion  \\\n",
       "0  http://europepmc.org/articles/pmc125340?pdf=re...        NaN   \n",
       "1  http://europepmc.org/articles/pmc125375?pdf=re...        NaN   \n",
       "\n",
       "                                           text_body  \n",
       "0  The genetic information of RNA viruses is orga...  \n",
       "1  Carcinoembryonic antigen (CEA; CD66e) was init...  "
      ]
     },
     "execution_count": 19,
     "metadata": {},
     "output_type": "execute_result"
    }
   ],
   "source": [
    "coronavirus.head(2)"
   ]
  },
  {
   "cell_type": "markdown",
   "metadata": {},
   "source": [
    "## Check for corrupted columns"
   ]
  },
  {
   "cell_type": "code",
   "execution_count": 20,
   "metadata": {},
   "outputs": [
    {
     "data": {
      "text/plain": [
       "paper_id        object\n",
       "source          object\n",
       "title           object\n",
       "abstract        object\n",
       "publish_time    object\n",
       "authors         object\n",
       "journal         object\n",
       "url             object\n",
       "discussion      object\n",
       "text_body       object\n",
       "dtype: object"
      ]
     },
     "execution_count": 20,
     "metadata": {},
     "output_type": "execute_result"
    }
   ],
   "source": [
    "coronavirus.dtypes"
   ]
  },
  {
   "cell_type": "markdown",
   "metadata": {},
   "source": [
    "## Cast publish time as datetime variable"
   ]
  },
  {
   "cell_type": "code",
   "execution_count": 21,
   "metadata": {},
   "outputs": [],
   "source": [
    "coronavirus['publish_time'] = pd.to_datetime(coronavirus['publish_time'])"
   ]
  },
  {
   "cell_type": "code",
   "execution_count": 22,
   "metadata": {},
   "outputs": [
    {
     "data": {
      "text/plain": [
       "paper_id                object\n",
       "source                  object\n",
       "title                   object\n",
       "abstract                object\n",
       "publish_time    datetime64[ns]\n",
       "authors                 object\n",
       "journal                 object\n",
       "url                     object\n",
       "discussion              object\n",
       "text_body               object\n",
       "dtype: object"
      ]
     },
     "execution_count": 22,
     "metadata": {},
     "output_type": "execute_result"
    }
   ],
   "source": [
    "coronavirus.dtypes"
   ]
  },
  {
   "cell_type": "markdown",
   "metadata": {},
   "source": [
    "## Save dataframe as csv file"
   ]
  },
  {
   "cell_type": "code",
   "execution_count": 23,
   "metadata": {},
   "outputs": [],
   "source": [
    "coronavirus.to_csv('merged_data.csv', index=False)"
   ]
  },
  {
   "cell_type": "code",
   "execution_count": null,
   "metadata": {},
   "outputs": [],
   "source": []
  }
 ],
 "metadata": {
  "kernelspec": {
   "display_name": "Python 3",
   "language": "python",
   "name": "python3"
  },
  "language_info": {
   "codemirror_mode": {
    "name": "ipython",
    "version": 3
   },
   "file_extension": ".py",
   "mimetype": "text/x-python",
   "name": "python",
   "nbconvert_exporter": "python",
   "pygments_lexer": "ipython3",
   "version": "3.7.6"
  }
 },
 "nbformat": 4,
 "nbformat_minor": 4
}
