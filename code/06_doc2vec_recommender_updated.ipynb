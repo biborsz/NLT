{
 "cells": [
  {
   "cell_type": "code",
   "execution_count": 1,
   "metadata": {},
   "outputs": [],
   "source": [
    "import numpy as np\n",
    "import pandas as pd\n",
    "import matplotlib.pyplot as plt\n",
    "\n",
    "import gensim\n",
    "import gensim.corpora as corpora\n",
    "from gensim.utils import simple_preprocess\n",
    "from gensim.models import CoherenceModel, HdpModel\n",
    "from gensim.models.doc2vec import Doc2Vec, TaggedDocument\n",
    "from gensim.test.utils import common_texts\n",
    "from gensim.parsing.preprocessing import strip_tags, strip_punctuation, strip_multiple_whitespaces, remove_stopwords, preprocess_string\n",
    "\n",
    "from tqdm import tqdm_notebook as tqdm\n"
   ]
  },
  {
   "cell_type": "markdown",
   "metadata": {},
   "source": [
    "# Cleaning"
   ]
  },
  {
   "cell_type": "code",
   "execution_count": 2,
   "metadata": {
    "scrolled": true
   },
   "outputs": [],
   "source": [
    "df = pd.read_csv('NLT_data/merged_data.csv')"
   ]
  },
  {
   "cell_type": "code",
   "execution_count": 4,
   "metadata": {},
   "outputs": [],
   "source": [
    "# filling some missing abstract values with the discussion section\n",
    "df['abstract'] = df['abstract'].fillna(value = df['discussion'])\n",
    "# Filling the rest with the title value\n",
    "df['abstract'] = df['abstract'].fillna(value = df['title'])"
   ]
  },
  {
   "cell_type": "code",
   "execution_count": 5,
   "metadata": {},
   "outputs": [],
   "source": [
    "# funtion for cleaning text\n",
    "def preprocess(text):\n",
    "    ls = []\n",
    "    for i in tqdm(text):\n",
    "        custom_filters = [strip_tags, strip_punctuation, strip_multiple_whitespaces, \n",
    "                          remove_stopwords]\n",
    "        ls.append(preprocess_string(i.lower(), custom_filters))\n",
    "    return ls"
   ]
  },
  {
   "cell_type": "code",
   "execution_count": 6,
   "metadata": {},
   "outputs": [],
   "source": [
    "raw_data = df['abstract']"
   ]
  },
  {
   "cell_type": "code",
   "execution_count": 7,
   "metadata": {},
   "outputs": [
    {
     "name": "stderr",
     "output_type": "stream",
     "text": [
      "/Users/cynthia/opt/anaconda3/envs/dsi/lib/python3.7/site-packages/ipykernel_launcher.py:4: TqdmDeprecationWarning: This function will be removed in tqdm==5.0.0\n",
      "Please use `tqdm.notebook.tqdm` instead of `tqdm.tqdm_notebook`\n",
      "  after removing the cwd from sys.path.\n"
     ]
    },
    {
     "data": {
      "application/vnd.jupyter.widget-view+json": {
       "model_id": "7f5a1afc11204822a0c68676ac47031d",
       "version_major": 2,
       "version_minor": 0
      },
      "text/plain": [
       "HBox(children=(FloatProgress(value=0.0, max=37562.0), HTML(value='')))"
      ]
     },
     "metadata": {},
     "output_type": "display_data"
    },
    {
     "name": "stdout",
     "output_type": "stream",
     "text": [
      "\n"
     ]
    }
   ],
   "source": [
    "data = preprocess(raw_data)"
   ]
  },
  {
   "cell_type": "markdown",
   "metadata": {},
   "source": [
    "# Doc2vec Model Training"
   ]
  },
  {
   "cell_type": "code",
   "execution_count": 8,
   "metadata": {},
   "outputs": [],
   "source": [
    "def create_tagged_document(list_of_list_of_words):\n",
    "    for i, list_of_words in enumerate(list_of_list_of_words):\n",
    "        yield TaggedDocument(list_of_words, [i])"
   ]
  },
  {
   "cell_type": "code",
   "execution_count": 9,
   "metadata": {},
   "outputs": [],
   "source": [
    "data_tagged = list(create_tagged_document(data))"
   ]
  },
  {
   "cell_type": "code",
   "execution_count": 10,
   "metadata": {},
   "outputs": [],
   "source": [
    "model = Doc2Vec(vector_size = 200, min_count = 3, epochs = 20)"
   ]
  },
  {
   "cell_type": "code",
   "execution_count": 11,
   "metadata": {},
   "outputs": [],
   "source": [
    "model.build_vocab(data_tagged)"
   ]
  },
  {
   "cell_type": "code",
   "execution_count": 14,
   "metadata": {},
   "outputs": [
    {
     "name": "stdout",
     "output_type": "stream",
     "text": [
      "CPU times: user 4min 21s, sys: 7.22 s, total: 4min 28s\n",
      "Wall time: 1min 51s\n"
     ]
    }
   ],
   "source": [
    "%%time # trained on data_tagged instead of train_tagged (??)\n",
    "model.train(data_tagged, total_examples = model.corpus_count, epochs = model.epochs)"
   ]
  },
  {
   "cell_type": "code",
   "execution_count": 15,
   "metadata": {},
   "outputs": [],
   "source": [
    "model.save('doc2vec.model')"
   ]
  },
  {
   "cell_type": "code",
   "execution_count": null,
   "metadata": {},
   "outputs": [],
   "source": [
    "# How to load in save model\n",
    "# model = Doc2Vec.load('doc2vec.model')"
   ]
  },
  {
   "cell_type": "markdown",
   "metadata": {},
   "source": [
    "# Get Similar Docs"
   ]
  },
  {
   "cell_type": "code",
   "execution_count": 16,
   "metadata": {},
   "outputs": [
    {
     "data": {
      "text/plain": [
       "[(18789, 0.6808946132659912),\n",
       " (12634, 0.6662856936454773),\n",
       " (21785, 0.6614649295806885),\n",
       " (1730, 0.6590951681137085),\n",
       " (20977, 0.6584314703941345),\n",
       " (14977, 0.6571099162101746),\n",
       " (36091, 0.6566710472106934),\n",
       " (18031, 0.6557404398918152),\n",
       " (18929, 0.6535806655883789),\n",
       " (31824, 0.6525307297706604)]"
      ]
     },
     "execution_count": 16,
     "metadata": {},
     "output_type": "execute_result"
    }
   ],
   "source": [
    "model.docvecs.most_similar(1)"
   ]
  },
  {
   "cell_type": "code",
   "execution_count": 17,
   "metadata": {},
   "outputs": [
    {
     "data": {
      "text/plain": [
       "[('viruses', 0.8659990429878235),\n",
       " ('viral', 0.8270898461341858),\n",
       " ('pathogen', 0.774575412273407),\n",
       " ('coronaviruses', 0.7464132308959961),\n",
       " ('pathogens', 0.7445506453514099),\n",
       " ('coronavirus', 0.7295480966567993),\n",
       " ('virion', 0.7247394323348999),\n",
       " ('cov', 0.7110444903373718),\n",
       " ('virions', 0.7086395025253296),\n",
       " ('rna', 0.7073073983192444)]"
      ]
     },
     "execution_count": 17,
     "metadata": {},
     "output_type": "execute_result"
    }
   ],
   "source": [
    "model.wv.most_similar_cosmul('virus')"
   ]
  },
  {
   "cell_type": "code",
   "execution_count": 18,
   "metadata": {},
   "outputs": [],
   "source": [
    "# Original function\n",
    "def search_docs(word, number_of_articles):\n",
    "    new_vec = model.infer_vector([word])\n",
    "    tag_list = model.docvecs.most_similar([new_vec])[0:number_of_articles]\n",
    "    sims = []\n",
    "    tags = []\n",
    "    for num in tag_list:\n",
    "        tags.append(num[0])\n",
    "        sims.append(num[1])\n",
    "    dfs = []\n",
    "    for t in tags:\n",
    "        dfs.append(df.iloc[t, :])\n",
    "    new_df = pd.DataFrame(dfs)\n",
    "    new_df['similarity_percentage'] = sims\n",
    "    return new_df"
   ]
  },
  {
   "cell_type": "code",
   "execution_count": 19,
   "metadata": {},
   "outputs": [
    {
     "data": {
      "text/html": [
       "<div>\n",
       "<style scoped>\n",
       "    .dataframe tbody tr th:only-of-type {\n",
       "        vertical-align: middle;\n",
       "    }\n",
       "\n",
       "    .dataframe tbody tr th {\n",
       "        vertical-align: top;\n",
       "    }\n",
       "\n",
       "    .dataframe thead th {\n",
       "        text-align: right;\n",
       "    }\n",
       "</style>\n",
       "<table border=\"1\" class=\"dataframe\">\n",
       "  <thead>\n",
       "    <tr style=\"text-align: right;\">\n",
       "      <th></th>\n",
       "      <th>paper_id</th>\n",
       "      <th>source</th>\n",
       "      <th>title</th>\n",
       "      <th>abstract</th>\n",
       "      <th>publish_time</th>\n",
       "      <th>authors</th>\n",
       "      <th>journal</th>\n",
       "      <th>url</th>\n",
       "      <th>discussion</th>\n",
       "      <th>text_body</th>\n",
       "      <th>similarity_percentage</th>\n",
       "    </tr>\n",
       "  </thead>\n",
       "  <tbody>\n",
       "    <tr>\n",
       "      <th>17193</th>\n",
       "      <td>bd00819b4de2a4763e39eb6f5d64ada0ec42e1ec</td>\n",
       "      <td>PMC</td>\n",
       "      <td>Human Metapneumovirus</td>\n",
       "      <td>Name of Virus: Human metapneumovirus</td>\n",
       "      <td>2013-08-26</td>\n",
       "      <td>Garcia–Moliner, Maria L.</td>\n",
       "      <td>Viruses and the Lung</td>\n",
       "      <td>https://www.ncbi.nlm.nih.gov/pmc/articles/PMC7...</td>\n",
       "      <td>NaN</td>\n",
       "      <td>Human metapneumovirus (hMPV), a frequent cause...</td>\n",
       "      <td>0.889753</td>\n",
       "    </tr>\n",
       "    <tr>\n",
       "      <th>2457</th>\n",
       "      <td>7a31ec5e53aa0adf7ae3f8caa2b02b72d2123f37</td>\n",
       "      <td>PMC</td>\n",
       "      <td>Genomics and computational science for virus r...</td>\n",
       "      <td>Genomics and computational science for virus r...</td>\n",
       "      <td>2013-03-07</td>\n",
       "      <td>Sato, Hironori; Yokoyama, Masaru; Toh, Hiroyuki</td>\n",
       "      <td>Front Microbiol</td>\n",
       "      <td>https://www.ncbi.nlm.nih.gov/pmc/articles/PMC3...</td>\n",
       "      <td>NaN</td>\n",
       "      <td>RNA viruses are highly mutable, yet changes in...</td>\n",
       "      <td>0.853033</td>\n",
       "    </tr>\n",
       "    <tr>\n",
       "      <th>26158</th>\n",
       "      <td>40bff06a9348c4f493fe2ab947182e49876a5e59</td>\n",
       "      <td>Elsevier</td>\n",
       "      <td>Enfermedad por virus Ébola y seguridad de las/...</td>\n",
       "      <td>Enfermedad por virus Ébola y seguridad de las/...</td>\n",
       "      <td>2015-08-31</td>\n",
       "      <td>Vizcaya-Moreno, M. Flores; Mercedes Núñez del ...</td>\n",
       "      <td>Gaceta Sanitaria</td>\n",
       "      <td>https://doi.org/10.1016/j.gaceta.2015.02.011</td>\n",
       "      <td>NaN</td>\n",
       "      <td>None declared.Conceived the idea of the report...</td>\n",
       "      <td>0.850008</td>\n",
       "    </tr>\n",
       "    <tr>\n",
       "      <th>20977</th>\n",
       "      <td>dfe5e0999792db3c59734c164e1dd19830e8e4a9</td>\n",
       "      <td>Elsevier</td>\n",
       "      <td>Lessons Learned During the COVID-19 Virus Pand...</td>\n",
       "      <td>Lessons Learned During the COVID-19 Virus Pand...</td>\n",
       "      <td>2020-03-27</td>\n",
       "      <td>Sterpetti, Antonio V.</td>\n",
       "      <td>Journal of the American College of Surgeons</td>\n",
       "      <td>https://doi.org/10.1016/j.jamcollsurg.2020.03.018</td>\n",
       "      <td>NaN</td>\n",
       "      <td>Antonio V Sterpetti, MD Covid-19 is a new stra...</td>\n",
       "      <td>0.849465</td>\n",
       "    </tr>\n",
       "  </tbody>\n",
       "</table>\n",
       "</div>"
      ],
      "text/plain": [
       "                                       paper_id    source  \\\n",
       "17193  bd00819b4de2a4763e39eb6f5d64ada0ec42e1ec       PMC   \n",
       "2457   7a31ec5e53aa0adf7ae3f8caa2b02b72d2123f37       PMC   \n",
       "26158  40bff06a9348c4f493fe2ab947182e49876a5e59  Elsevier   \n",
       "20977  dfe5e0999792db3c59734c164e1dd19830e8e4a9  Elsevier   \n",
       "\n",
       "                                                   title  \\\n",
       "17193                              Human Metapneumovirus   \n",
       "2457   Genomics and computational science for virus r...   \n",
       "26158  Enfermedad por virus Ébola y seguridad de las/...   \n",
       "20977  Lessons Learned During the COVID-19 Virus Pand...   \n",
       "\n",
       "                                                abstract publish_time  \\\n",
       "17193               Name of Virus: Human metapneumovirus   2013-08-26   \n",
       "2457   Genomics and computational science for virus r...   2013-03-07   \n",
       "26158  Enfermedad por virus Ébola y seguridad de las/...   2015-08-31   \n",
       "20977  Lessons Learned During the COVID-19 Virus Pand...   2020-03-27   \n",
       "\n",
       "                                                 authors  \\\n",
       "17193                           Garcia–Moliner, Maria L.   \n",
       "2457     Sato, Hironori; Yokoyama, Masaru; Toh, Hiroyuki   \n",
       "26158  Vizcaya-Moreno, M. Flores; Mercedes Núñez del ...   \n",
       "20977                              Sterpetti, Antonio V.   \n",
       "\n",
       "                                           journal  \\\n",
       "17193                         Viruses and the Lung   \n",
       "2457                               Front Microbiol   \n",
       "26158                             Gaceta Sanitaria   \n",
       "20977  Journal of the American College of Surgeons   \n",
       "\n",
       "                                                     url  discussion  \\\n",
       "17193  https://www.ncbi.nlm.nih.gov/pmc/articles/PMC7...         NaN   \n",
       "2457   https://www.ncbi.nlm.nih.gov/pmc/articles/PMC3...         NaN   \n",
       "26158       https://doi.org/10.1016/j.gaceta.2015.02.011         NaN   \n",
       "20977  https://doi.org/10.1016/j.jamcollsurg.2020.03.018         NaN   \n",
       "\n",
       "                                               text_body  \\\n",
       "17193  Human metapneumovirus (hMPV), a frequent cause...   \n",
       "2457   RNA viruses are highly mutable, yet changes in...   \n",
       "26158  None declared.Conceived the idea of the report...   \n",
       "20977  Antonio V Sterpetti, MD Covid-19 is a new stra...   \n",
       "\n",
       "       similarity_percentage  \n",
       "17193               0.889753  \n",
       "2457                0.853033  \n",
       "26158               0.850008  \n",
       "20977               0.849465  "
      ]
     },
     "execution_count": 19,
     "metadata": {},
     "output_type": "execute_result"
    }
   ],
   "source": [
    "search_docs('virus', 4)"
   ]
  },
  {
   "cell_type": "code",
   "execution_count": 29,
   "metadata": {},
   "outputs": [],
   "source": [
    "# Grab articles most similar to the input word and input word's most similar words \n",
    "\n",
    "def most_sim_docs(word, n_articles, topn=3):\n",
    "    dfs = []\n",
    "    sims = []\n",
    "    \n",
    "    # Input word with topn of its most similar keywords\n",
    "    keywords = [word] + [w[0] for w in model.wv.most_similar_cosmul(word, topn=topn)]\n",
    "    \n",
    "    # Loop through each keyword\n",
    "    for term in keywords:\n",
    "        new_vec = model.infer_vector([term]) # random, different everytime \n",
    "        tag_list = model.docvecs.most_similar([new_vec])[0:n_articles]\n",
    "        \n",
    "        \n",
    "        tags = [] \n",
    "        for num in tag_list:\n",
    "            tags.append(num[0])\n",
    "            sims.append(num[1])\n",
    "        \n",
    "        for t in tags:\n",
    "            dfs.append(df.iloc[t, :])\n",
    "        \n",
    "    new_df = pd.DataFrame(dfs)\n",
    "    new_df['similarity_percentage'] = sims\n",
    "    \n",
    "    return new_df"
   ]
  },
  {
   "cell_type": "code",
   "execution_count": 39,
   "metadata": {},
   "outputs": [],
   "source": [
    "# Return 2 of the most similar articles for 'virus' and each of the top 3 most similar words\n",
    "# to 'virus'\n",
    "\n",
    "articles = most_sim_docs('virus', 2)"
   ]
  },
  {
   "cell_type": "code",
   "execution_count": 54,
   "metadata": {},
   "outputs": [
    {
     "data": {
      "text/html": [
       "<div>\n",
       "<style scoped>\n",
       "    .dataframe tbody tr th:only-of-type {\n",
       "        vertical-align: middle;\n",
       "    }\n",
       "\n",
       "    .dataframe tbody tr th {\n",
       "        vertical-align: top;\n",
       "    }\n",
       "\n",
       "    .dataframe thead th {\n",
       "        text-align: right;\n",
       "    }\n",
       "</style>\n",
       "<table border=\"1\" class=\"dataframe\">\n",
       "  <thead>\n",
       "    <tr style=\"text-align: right;\">\n",
       "      <th></th>\n",
       "      <th>paper_id</th>\n",
       "      <th>source</th>\n",
       "      <th>title</th>\n",
       "      <th>abstract</th>\n",
       "      <th>publish_time</th>\n",
       "      <th>authors</th>\n",
       "      <th>journal</th>\n",
       "      <th>url</th>\n",
       "      <th>discussion</th>\n",
       "      <th>text_body</th>\n",
       "      <th>similarity_percentage</th>\n",
       "    </tr>\n",
       "  </thead>\n",
       "  <tbody>\n",
       "    <tr>\n",
       "      <th>17193</th>\n",
       "      <td>bd00819b4de2a4763e39eb6f5d64ada0ec42e1ec</td>\n",
       "      <td>PMC</td>\n",
       "      <td>Human Metapneumovirus</td>\n",
       "      <td>Name of Virus: Human metapneumovirus</td>\n",
       "      <td>2013-08-26</td>\n",
       "      <td>Garcia–Moliner, Maria L.</td>\n",
       "      <td>Viruses and the Lung</td>\n",
       "      <td>https://www.ncbi.nlm.nih.gov/pmc/articles/PMC7...</td>\n",
       "      <td>NaN</td>\n",
       "      <td>Human metapneumovirus (hMPV), a frequent cause...</td>\n",
       "      <td>0.854331</td>\n",
       "    </tr>\n",
       "    <tr>\n",
       "      <th>26158</th>\n",
       "      <td>40bff06a9348c4f493fe2ab947182e49876a5e59</td>\n",
       "      <td>Elsevier</td>\n",
       "      <td>Enfermedad por virus Ébola y seguridad de las/...</td>\n",
       "      <td>Enfermedad por virus Ébola y seguridad de las/...</td>\n",
       "      <td>2015-08-31</td>\n",
       "      <td>Vizcaya-Moreno, M. Flores; Mercedes Núñez del ...</td>\n",
       "      <td>Gaceta Sanitaria</td>\n",
       "      <td>https://doi.org/10.1016/j.gaceta.2015.02.011</td>\n",
       "      <td>NaN</td>\n",
       "      <td>None declared.Conceived the idea of the report...</td>\n",
       "      <td>0.846515</td>\n",
       "    </tr>\n",
       "    <tr>\n",
       "      <th>20099</th>\n",
       "      <td>8262ee018c3a68115e490eabef19cacb5442647e</td>\n",
       "      <td>Elsevier</td>\n",
       "      <td>Viruses and the pathogenesis of multiple scler...</td>\n",
       "      <td>Viruses and the pathogenesis of multiple scler...</td>\n",
       "      <td>1984-03-31</td>\n",
       "      <td>Whitaker, John N.; Kingsbury, David W.</td>\n",
       "      <td>Trends in Neurosciences</td>\n",
       "      <td>https://doi.org/10.1016/s0166-2236(84)80155-1</td>\n",
       "      <td>NaN</td>\n",
       "      <td>The tachykinin family of peptides ( Fig.  1) i...</td>\n",
       "      <td>0.878737</td>\n",
       "    </tr>\n",
       "    <tr>\n",
       "      <th>10734</th>\n",
       "      <td>c51c4f6146d0c636bc4dc3839c16b9e3ef52849a</td>\n",
       "      <td>PMC</td>\n",
       "      <td>Haunted with and hunting for viruses</td>\n",
       "      <td>Haunted with and hunting for viruses</td>\n",
       "      <td>2013-08-07</td>\n",
       "      <td>Gao, George Fu; Wu, Ying</td>\n",
       "      <td>Sci China Life Sci</td>\n",
       "      <td>https://www.ncbi.nlm.nih.gov/pmc/articles/PMC7...</td>\n",
       "      <td>NaN</td>\n",
       "      <td>pecially with next-generation sequencing (NGS)...</td>\n",
       "      <td>0.876750</td>\n",
       "    </tr>\n",
       "    <tr>\n",
       "      <th>33324</th>\n",
       "      <td>68a0767d279c9c1d3d7c83a5796128d370f917b4</td>\n",
       "      <td>Elsevier</td>\n",
       "      <td>Multiple sclerosis as a viral disease</td>\n",
       "      <td>Multiple sclerosis as a viral disease</td>\n",
       "      <td>1989-12-31</td>\n",
       "      <td>Brahic, M.; Jewell, J.</td>\n",
       "      <td>Research in Immunology</td>\n",
       "      <td>https://doi.org/10.1016/0923-2494(89)90082-5</td>\n",
       "      <td>NaN</td>\n",
       "      <td>the MHC and T-cell-receptor peptides involved ...</td>\n",
       "      <td>0.859991</td>\n",
       "    </tr>\n",
       "    <tr>\n",
       "      <th>33801</th>\n",
       "      <td>251bc368c4c2d41d0a3e44ebb499c12b4a923b92</td>\n",
       "      <td>Elsevier</td>\n",
       "      <td>Viral diseases of companion birds</td>\n",
       "      <td>Viral diseases of companion birds</td>\n",
       "      <td>2005-01-31</td>\n",
       "      <td>Greenacre, Cheryl B.</td>\n",
       "      <td>Veterinary Clinics of North America: Exotic An...</td>\n",
       "      <td>https://doi.org/10.1016/j.cvex.2004.09.005</td>\n",
       "      <td>NaN</td>\n",
       "      <td>Because adenoviruses are nonenveloped viruses,...</td>\n",
       "      <td>0.826255</td>\n",
       "    </tr>\n",
       "    <tr>\n",
       "      <th>34784</th>\n",
       "      <td>9f8f05f2fa2a9f116b4a9a6449e3bca83f2ee552</td>\n",
       "      <td>Elsevier</td>\n",
       "      <td>Canine Coronavirus: Not Only an Enteric Pathogen</td>\n",
       "      <td>Canine Coronavirus: Not Only an Enteric Pathogen</td>\n",
       "      <td>2011-11-30</td>\n",
       "      <td>Decaro, Nicola; Buonavoglia, Canio</td>\n",
       "      <td>Veterinary Clinics of North America: Small Ani...</td>\n",
       "      <td>https://doi.org/10.1016/j.cvsm.2011.07.005</td>\n",
       "      <td>NaN</td>\n",
       "      <td>of a short amino-terminal ectodomain, a triple...</td>\n",
       "      <td>0.770511</td>\n",
       "    </tr>\n",
       "    <tr>\n",
       "      <th>30297</th>\n",
       "      <td>1be620d0f0c65a6df3caa6d57c1dfeee0f9945f3</td>\n",
       "      <td>Elsevier</td>\n",
       "      <td>The pathogens</td>\n",
       "      <td>The pathogens</td>\n",
       "      <td>2007-10-31</td>\n",
       "      <td>Carman, William F.; Mahony, James B.</td>\n",
       "      <td>Journal of Clinical Virology</td>\n",
       "      <td>https://doi.org/10.1016/s1386-6532(07)70003-3</td>\n",
       "      <td>NaN</td>\n",
       "      <td>Respiratory viruses are important to human hea...</td>\n",
       "      <td>0.762521</td>\n",
       "    </tr>\n",
       "  </tbody>\n",
       "</table>\n",
       "</div>"
      ],
      "text/plain": [
       "                                       paper_id    source  \\\n",
       "17193  bd00819b4de2a4763e39eb6f5d64ada0ec42e1ec       PMC   \n",
       "26158  40bff06a9348c4f493fe2ab947182e49876a5e59  Elsevier   \n",
       "20099  8262ee018c3a68115e490eabef19cacb5442647e  Elsevier   \n",
       "10734  c51c4f6146d0c636bc4dc3839c16b9e3ef52849a       PMC   \n",
       "33324  68a0767d279c9c1d3d7c83a5796128d370f917b4  Elsevier   \n",
       "33801  251bc368c4c2d41d0a3e44ebb499c12b4a923b92  Elsevier   \n",
       "34784  9f8f05f2fa2a9f116b4a9a6449e3bca83f2ee552  Elsevier   \n",
       "30297  1be620d0f0c65a6df3caa6d57c1dfeee0f9945f3  Elsevier   \n",
       "\n",
       "                                                   title  \\\n",
       "17193                              Human Metapneumovirus   \n",
       "26158  Enfermedad por virus Ébola y seguridad de las/...   \n",
       "20099  Viruses and the pathogenesis of multiple scler...   \n",
       "10734               Haunted with and hunting for viruses   \n",
       "33324              Multiple sclerosis as a viral disease   \n",
       "33801                  Viral diseases of companion birds   \n",
       "34784   Canine Coronavirus: Not Only an Enteric Pathogen   \n",
       "30297                                      The pathogens   \n",
       "\n",
       "                                                abstract publish_time  \\\n",
       "17193               Name of Virus: Human metapneumovirus   2013-08-26   \n",
       "26158  Enfermedad por virus Ébola y seguridad de las/...   2015-08-31   \n",
       "20099  Viruses and the pathogenesis of multiple scler...   1984-03-31   \n",
       "10734               Haunted with and hunting for viruses   2013-08-07   \n",
       "33324              Multiple sclerosis as a viral disease   1989-12-31   \n",
       "33801                  Viral diseases of companion birds   2005-01-31   \n",
       "34784   Canine Coronavirus: Not Only an Enteric Pathogen   2011-11-30   \n",
       "30297                                      The pathogens   2007-10-31   \n",
       "\n",
       "                                                 authors  \\\n",
       "17193                           Garcia–Moliner, Maria L.   \n",
       "26158  Vizcaya-Moreno, M. Flores; Mercedes Núñez del ...   \n",
       "20099             Whitaker, John N.; Kingsbury, David W.   \n",
       "10734                           Gao, George Fu; Wu, Ying   \n",
       "33324                             Brahic, M.; Jewell, J.   \n",
       "33801                               Greenacre, Cheryl B.   \n",
       "34784                 Decaro, Nicola; Buonavoglia, Canio   \n",
       "30297               Carman, William F.; Mahony, James B.   \n",
       "\n",
       "                                                 journal  \\\n",
       "17193                               Viruses and the Lung   \n",
       "26158                                   Gaceta Sanitaria   \n",
       "20099                            Trends in Neurosciences   \n",
       "10734                                 Sci China Life Sci   \n",
       "33324                             Research in Immunology   \n",
       "33801  Veterinary Clinics of North America: Exotic An...   \n",
       "34784  Veterinary Clinics of North America: Small Ani...   \n",
       "30297                       Journal of Clinical Virology   \n",
       "\n",
       "                                                     url  discussion  \\\n",
       "17193  https://www.ncbi.nlm.nih.gov/pmc/articles/PMC7...         NaN   \n",
       "26158       https://doi.org/10.1016/j.gaceta.2015.02.011         NaN   \n",
       "20099      https://doi.org/10.1016/s0166-2236(84)80155-1         NaN   \n",
       "10734  https://www.ncbi.nlm.nih.gov/pmc/articles/PMC7...         NaN   \n",
       "33324       https://doi.org/10.1016/0923-2494(89)90082-5         NaN   \n",
       "33801         https://doi.org/10.1016/j.cvex.2004.09.005         NaN   \n",
       "34784         https://doi.org/10.1016/j.cvsm.2011.07.005         NaN   \n",
       "30297      https://doi.org/10.1016/s1386-6532(07)70003-3         NaN   \n",
       "\n",
       "                                               text_body  \\\n",
       "17193  Human metapneumovirus (hMPV), a frequent cause...   \n",
       "26158  None declared.Conceived the idea of the report...   \n",
       "20099  The tachykinin family of peptides ( Fig.  1) i...   \n",
       "10734  pecially with next-generation sequencing (NGS)...   \n",
       "33324  the MHC and T-cell-receptor peptides involved ...   \n",
       "33801  Because adenoviruses are nonenveloped viruses,...   \n",
       "34784  of a short amino-terminal ectodomain, a triple...   \n",
       "30297  Respiratory viruses are important to human hea...   \n",
       "\n",
       "       similarity_percentage  \n",
       "17193               0.854331  \n",
       "26158               0.846515  \n",
       "20099               0.878737  \n",
       "10734               0.876750  \n",
       "33324               0.859991  \n",
       "33801               0.826255  \n",
       "34784               0.770511  \n",
       "30297               0.762521  "
      ]
     },
     "execution_count": 54,
     "metadata": {},
     "output_type": "execute_result"
    }
   ],
   "source": [
    "articles"
   ]
  },
  {
   "cell_type": "code",
   "execution_count": null,
   "metadata": {},
   "outputs": [],
   "source": []
  }
 ],
 "metadata": {
  "kernelspec": {
   "display_name": "Python [conda env:dsi] *",
   "language": "python",
   "name": "conda-env-dsi-py"
  },
  "language_info": {
   "codemirror_mode": {
    "name": "ipython",
    "version": 3
   },
   "file_extension": ".py",
   "mimetype": "text/x-python",
   "name": "python",
   "nbconvert_exporter": "python",
   "pygments_lexer": "ipython3",
   "version": "3.7.6"
  },
  "varInspector": {
   "cols": {
    "lenName": 16,
    "lenType": 16,
    "lenVar": 40
   },
   "kernels_config": {
    "python": {
     "delete_cmd_postfix": "",
     "delete_cmd_prefix": "del ",
     "library": "var_list.py",
     "varRefreshCmd": "print(var_dic_list())"
    },
    "r": {
     "delete_cmd_postfix": ") ",
     "delete_cmd_prefix": "rm(",
     "library": "var_list.r",
     "varRefreshCmd": "cat(var_dic_list()) "
    }
   },
   "types_to_exclude": [
    "module",
    "function",
    "builtin_function_or_method",
    "instance",
    "_Feature"
   ],
   "window_display": false
  }
 },
 "nbformat": 4,
 "nbformat_minor": 4
}
