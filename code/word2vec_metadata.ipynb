{
 "cells": [
  {
   "cell_type": "markdown",
   "metadata": {},
   "source": [
    "## Imports"
   ]
  },
  {
   "cell_type": "code",
   "execution_count": 1,
   "metadata": {},
   "outputs": [],
   "source": [
    "import pandas as pd\n",
    "import numpy as np\n",
    "\n",
    "import regex as re\n",
    "from nltk.tokenize import RegexpTokenizer\n",
    "from gensim.models.word2vec import Word2Vec"
   ]
  },
  {
   "cell_type": "markdown",
   "metadata": {},
   "source": [
    "## Read in data"
   ]
  },
  {
   "cell_type": "code",
   "execution_count": 2,
   "metadata": {
    "scrolled": true
   },
   "outputs": [
    {
     "data": {
      "text/html": [
       "<div>\n",
       "<style scoped>\n",
       "    .dataframe tbody tr th:only-of-type {\n",
       "        vertical-align: middle;\n",
       "    }\n",
       "\n",
       "    .dataframe tbody tr th {\n",
       "        vertical-align: top;\n",
       "    }\n",
       "\n",
       "    .dataframe thead th {\n",
       "        text-align: right;\n",
       "    }\n",
       "</style>\n",
       "<table border=\"1\" class=\"dataframe\">\n",
       "  <thead>\n",
       "    <tr style=\"text-align: right;\">\n",
       "      <th></th>\n",
       "      <th>paper_id</th>\n",
       "      <th>source</th>\n",
       "      <th>title</th>\n",
       "      <th>abstract</th>\n",
       "      <th>publish_time</th>\n",
       "      <th>authors</th>\n",
       "      <th>journal</th>\n",
       "      <th>url</th>\n",
       "      <th>discussion</th>\n",
       "      <th>text_body</th>\n",
       "    </tr>\n",
       "  </thead>\n",
       "  <tbody>\n",
       "    <tr>\n",
       "      <th>0</th>\n",
       "      <td>b2897e1277f56641193a6db73825f707eed3e4c9</td>\n",
       "      <td>PMC</td>\n",
       "      <td>Sequence requirements for RNA strand transfer ...</td>\n",
       "      <td>Nidovirus subgenomic mRNAs contain a leader se...</td>\n",
       "      <td>2001-12-17</td>\n",
       "      <td>Pasternak, Alexander O.; van den Born, Erwin; ...</td>\n",
       "      <td>The EMBO Journal</td>\n",
       "      <td>http://europepmc.org/articles/pmc125340?pdf=re...</td>\n",
       "      <td>NaN</td>\n",
       "      <td>The genetic information of RNA viruses is orga...</td>\n",
       "    </tr>\n",
       "    <tr>\n",
       "      <th>1</th>\n",
       "      <td>e3d0d482ebd9a8ba81c254cc433f314142e72174</td>\n",
       "      <td>PMC</td>\n",
       "      <td>Crystal structure of murine sCEACAM1a[1,4]: a ...</td>\n",
       "      <td>CEACAM1 is a member of the carcinoembryonic an...</td>\n",
       "      <td>2002-05-01</td>\n",
       "      <td>Tan, Kemin; Zelus, Bruce D.; Meijers, Rob; Liu...</td>\n",
       "      <td>The EMBO Journal</td>\n",
       "      <td>http://europepmc.org/articles/pmc125375?pdf=re...</td>\n",
       "      <td>NaN</td>\n",
       "      <td>Carcinoembryonic antigen (CEA; CD66e) was init...</td>\n",
       "    </tr>\n",
       "  </tbody>\n",
       "</table>\n",
       "</div>"
      ],
      "text/plain": [
       "                                   paper_id source  \\\n",
       "0  b2897e1277f56641193a6db73825f707eed3e4c9    PMC   \n",
       "1  e3d0d482ebd9a8ba81c254cc433f314142e72174    PMC   \n",
       "\n",
       "                                               title  \\\n",
       "0  Sequence requirements for RNA strand transfer ...   \n",
       "1  Crystal structure of murine sCEACAM1a[1,4]: a ...   \n",
       "\n",
       "                                            abstract publish_time  \\\n",
       "0  Nidovirus subgenomic mRNAs contain a leader se...   2001-12-17   \n",
       "1  CEACAM1 is a member of the carcinoembryonic an...   2002-05-01   \n",
       "\n",
       "                                             authors           journal  \\\n",
       "0  Pasternak, Alexander O.; van den Born, Erwin; ...  The EMBO Journal   \n",
       "1  Tan, Kemin; Zelus, Bruce D.; Meijers, Rob; Liu...  The EMBO Journal   \n",
       "\n",
       "                                                 url discussion  \\\n",
       "0  http://europepmc.org/articles/pmc125340?pdf=re...        NaN   \n",
       "1  http://europepmc.org/articles/pmc125375?pdf=re...        NaN   \n",
       "\n",
       "                                           text_body  \n",
       "0  The genetic information of RNA viruses is orga...  \n",
       "1  Carcinoembryonic antigen (CEA; CD66e) was init...  "
      ]
     },
     "execution_count": 2,
     "metadata": {},
     "output_type": "execute_result"
    }
   ],
   "source": [
    "articles = pd.read_csv('NLT_data/merged_data.csv')\n",
    "articles.head(2)"
   ]
  },
  {
   "cell_type": "markdown",
   "metadata": {},
   "source": [
    "## Tokenize text data"
   ]
  },
  {
   "cell_type": "code",
   "execution_count": 3,
   "metadata": {},
   "outputs": [],
   "source": [
    "# Function that strips text of leading and trailing punctuation\n",
    "import string\n",
    "\n",
    "def strip_punc(list_of_words):\n",
    "    return [word.strip(string.punctuation) for word in list_of_words]"
   ]
  },
  {
   "cell_type": "code",
   "execution_count": 4,
   "metadata": {},
   "outputs": [],
   "source": [
    "# Function that lowercases, tokenizes, and strips the text of any trailing punctuation\n",
    "\n",
    "def clean_text(text):\n",
    "    # Cast text as string (floats in body text)\n",
    "    text = str(text)\n",
    "    \n",
    "    # Lowercase all words\n",
    "    lower = text.lower()\n",
    "    \n",
    "    # Tokenizes by whitespace\n",
    "    tokenizer = RegexpTokenizer('\\s+', gaps=True)\n",
    "    tokens = tokenizer.tokenize(lower)\n",
    "    \n",
    "    # Strip leading and trailing punctuation\n",
    "    tokens_stripped = strip_punc(tokens)\n",
    "    \n",
    "    # Return tokens stripped of trailing punctuation\n",
    "    return tokens_stripped"
   ]
  },
  {
   "cell_type": "code",
   "execution_count": 5,
   "metadata": {},
   "outputs": [],
   "source": [
    "# Tokenize titles\n",
    "articles['title'] = articles['title'].map(clean_text)\n",
    "\n",
    "# Tokenize abstract\n",
    "articles['abstract'] = articles['abstract'].map(clean_text)\n",
    "\n",
    "# Tokenize body text\n",
    "articles['text_body'] = articles['text_body'].map(clean_text)"
   ]
  },
  {
   "cell_type": "code",
   "execution_count": 6,
   "metadata": {},
   "outputs": [
    {
     "data": {
      "text/html": [
       "<div>\n",
       "<style scoped>\n",
       "    .dataframe tbody tr th:only-of-type {\n",
       "        vertical-align: middle;\n",
       "    }\n",
       "\n",
       "    .dataframe tbody tr th {\n",
       "        vertical-align: top;\n",
       "    }\n",
       "\n",
       "    .dataframe thead th {\n",
       "        text-align: right;\n",
       "    }\n",
       "</style>\n",
       "<table border=\"1\" class=\"dataframe\">\n",
       "  <thead>\n",
       "    <tr style=\"text-align: right;\">\n",
       "      <th></th>\n",
       "      <th>paper_id</th>\n",
       "      <th>source</th>\n",
       "      <th>title</th>\n",
       "      <th>abstract</th>\n",
       "      <th>publish_time</th>\n",
       "      <th>authors</th>\n",
       "      <th>journal</th>\n",
       "      <th>url</th>\n",
       "      <th>discussion</th>\n",
       "      <th>text_body</th>\n",
       "    </tr>\n",
       "  </thead>\n",
       "  <tbody>\n",
       "    <tr>\n",
       "      <th>0</th>\n",
       "      <td>b2897e1277f56641193a6db73825f707eed3e4c9</td>\n",
       "      <td>PMC</td>\n",
       "      <td>[sequence, requirements, for, rna, strand, tra...</td>\n",
       "      <td>[nidovirus, subgenomic, mrnas, contain, a, lea...</td>\n",
       "      <td>2001-12-17</td>\n",
       "      <td>Pasternak, Alexander O.; van den Born, Erwin; ...</td>\n",
       "      <td>The EMBO Journal</td>\n",
       "      <td>http://europepmc.org/articles/pmc125340?pdf=re...</td>\n",
       "      <td>NaN</td>\n",
       "      <td>[the, genetic, information, of, rna, viruses, ...</td>\n",
       "    </tr>\n",
       "    <tr>\n",
       "      <th>1</th>\n",
       "      <td>e3d0d482ebd9a8ba81c254cc433f314142e72174</td>\n",
       "      <td>PMC</td>\n",
       "      <td>[crystal, structure, of, murine, sceacam1a[1,4...</td>\n",
       "      <td>[ceacam1, is, a, member, of, the, carcinoembry...</td>\n",
       "      <td>2002-05-01</td>\n",
       "      <td>Tan, Kemin; Zelus, Bruce D.; Meijers, Rob; Liu...</td>\n",
       "      <td>The EMBO Journal</td>\n",
       "      <td>http://europepmc.org/articles/pmc125375?pdf=re...</td>\n",
       "      <td>NaN</td>\n",
       "      <td>[carcinoembryonic, antigen, cea, cd66e, was, i...</td>\n",
       "    </tr>\n",
       "  </tbody>\n",
       "</table>\n",
       "</div>"
      ],
      "text/plain": [
       "                                   paper_id source  \\\n",
       "0  b2897e1277f56641193a6db73825f707eed3e4c9    PMC   \n",
       "1  e3d0d482ebd9a8ba81c254cc433f314142e72174    PMC   \n",
       "\n",
       "                                               title  \\\n",
       "0  [sequence, requirements, for, rna, strand, tra...   \n",
       "1  [crystal, structure, of, murine, sceacam1a[1,4...   \n",
       "\n",
       "                                            abstract publish_time  \\\n",
       "0  [nidovirus, subgenomic, mrnas, contain, a, lea...   2001-12-17   \n",
       "1  [ceacam1, is, a, member, of, the, carcinoembry...   2002-05-01   \n",
       "\n",
       "                                             authors           journal  \\\n",
       "0  Pasternak, Alexander O.; van den Born, Erwin; ...  The EMBO Journal   \n",
       "1  Tan, Kemin; Zelus, Bruce D.; Meijers, Rob; Liu...  The EMBO Journal   \n",
       "\n",
       "                                                 url discussion  \\\n",
       "0  http://europepmc.org/articles/pmc125340?pdf=re...        NaN   \n",
       "1  http://europepmc.org/articles/pmc125375?pdf=re...        NaN   \n",
       "\n",
       "                                           text_body  \n",
       "0  [the, genetic, information, of, rna, viruses, ...  \n",
       "1  [carcinoembryonic, antigen, cea, cd66e, was, i...  "
      ]
     },
     "execution_count": 6,
     "metadata": {},
     "output_type": "execute_result"
    }
   ],
   "source": [
    "articles.head(2)"
   ]
  },
  {
   "cell_type": "markdown",
   "metadata": {},
   "source": [
    "## Word2Vec Model - CBOW"
   ]
  },
  {
   "cell_type": "code",
   "execution_count": 7,
   "metadata": {},
   "outputs": [],
   "source": [
    "# Train a Word2Vec model on body text using bag of words\n",
    "\n",
    "model_cbow = Word2Vec(articles['text_body'],\n",
    "                      min_count=1,\n",
    "                      workers=4)"
   ]
  },
  {
   "cell_type": "code",
   "execution_count": 8,
   "metadata": {},
   "outputs": [
    {
     "data": {
      "text/plain": [
       "[('cov', 0.8723200559616089),\n",
       " ('coronaviruses', 0.7552334070205688),\n",
       " ('betacoronavirus', 0.7502703666687012),\n",
       " ('sars-coronavirus', 0.7349566221237183),\n",
       " ('hcov-nl63', 0.7132015228271484),\n",
       " ('sars-cov', 0.6978799104690552),\n",
       " ('beta-coronavirus', 0.6974042057991028),\n",
       " ('paramyxovirus', 0.686292827129364),\n",
       " ('ncov', 0.675050675868988),\n",
       " ('covs', 0.6744565963745117),\n",
       " ('corona-virus', 0.674293041229248),\n",
       " ('alphacoronavirus', 0.6740212440490723),\n",
       " ('hcov-229e', 0.6699510216712952),\n",
       " ('torovirus', 0.6651463508605957),\n",
       " ('hcov-hku1', 0.6644760966300964),\n",
       " ('hcov', 0.6621612906455994),\n",
       " ('astrovirus', 0.6608228087425232),\n",
       " ('coronaviral', 0.6587368249893188),\n",
       " ('mers-cov', 0.6571252346038818),\n",
       " ('2019-ncov', 0.6556006073951721),\n",
       " ('picornavirus', 0.6457030177116394),\n",
       " ('hcov-emc', 0.642787754535675),\n",
       " ('sars-cov-2', 0.6416059732437134),\n",
       " ('coronavirus.the', 0.6406640410423279),\n",
       " ('calicivirus', 0.6383765339851379)]"
      ]
     },
     "execution_count": 8,
     "metadata": {},
     "output_type": "execute_result"
    }
   ],
   "source": [
    "model_cbow.wv.most_similar('coronavirus', topn=25)"
   ]
  },
  {
   "cell_type": "code",
   "execution_count": 9,
   "metadata": {},
   "outputs": [
    {
     "data": {
      "text/plain": [
       "(25451948, 31781460)"
      ]
     },
     "execution_count": 9,
     "metadata": {},
     "output_type": "execute_result"
    }
   ],
   "source": [
    "# Update model with words from abstract\n",
    "# https://www.machinelearningplus.com/nlp/gensim-tutorial/#15howtoupdateanexistingword2vecmodelwithnewdata\n",
    "\n",
    "model_cbow.build_vocab(articles['abstract'], update=True)\n",
    "model_cbow.train(articles['abstract'],\n",
    "                 total_examples = model_cbow.corpus_count,\n",
    "                 epochs = model_cbow.epochs)"
   ]
  },
  {
   "cell_type": "code",
   "execution_count": 10,
   "metadata": {
    "scrolled": false
   },
   "outputs": [
    {
     "data": {
      "text/plain": [
       "[('cov', 0.8179519176483154),\n",
       " ('betacoronavirus', 0.6815667748451233),\n",
       " ('coronaviruses', 0.6796875596046448),\n",
       " ('hcov-nl63', 0.6774649024009705),\n",
       " ('corona-virus', 0.6750600337982178),\n",
       " ('sars-coronavirus', 0.6544812917709351),\n",
       " ('beta-coronavirus', 0.6539711952209473),\n",
       " ('alphacoronavirus', 0.6444243788719177),\n",
       " ('coronaviral', 0.637790322303772),\n",
       " ('hcov-emc', 0.6352381110191345),\n",
       " ('coronovirus', 0.6346707940101624),\n",
       " ('eoronavirus', 0.6243880987167358),\n",
       " ('coronavirus.the', 0.6218816041946411),\n",
       " ('hcov', 0.6198548674583435),\n",
       " ('torovirus', 0.6195451617240906),\n",
       " ('astrovirus', 0.6194137334823608),\n",
       " ('hcov-229e', 0.6192142963409424),\n",
       " ('paramyxovirus', 0.6100278496742249),\n",
       " ('ncov', 0.6040126085281372),\n",
       " ('calicivirus', 0.60213702917099),\n",
       " ('sads-cov', 0.5989593267440796),\n",
       " ('sars-cov', 0.5982458591461182),\n",
       " ('hcov-oc43', 0.5957435965538025),\n",
       " ('seacov', 0.591794490814209),\n",
       " ('β-coronavirus', 0.591096818447113)]"
      ]
     },
     "execution_count": 10,
     "metadata": {},
     "output_type": "execute_result"
    }
   ],
   "source": [
    "model_cbow.wv.most_similar('coronavirus', topn=25)"
   ]
  },
  {
   "cell_type": "markdown",
   "metadata": {},
   "source": [
    "## Word2Vec Model - SkipGram"
   ]
  },
  {
   "cell_type": "code",
   "execution_count": 11,
   "metadata": {},
   "outputs": [],
   "source": [
    "# Train Word2Vec model on body text using SkipGram\n",
    "\n",
    "model_sg = Word2Vec(articles['text_body'],\n",
    "                    min_count=1,\n",
    "                    sg=1,\n",
    "                    workers=4)"
   ]
  },
  {
   "cell_type": "code",
   "execution_count": 12,
   "metadata": {},
   "outputs": [
    {
     "data": {
      "text/plain": [
       "[('cov', 0.867962658405304),\n",
       " ('coronaviruses', 0.8325676918029785),\n",
       " ('sars-associated', 0.812114953994751),\n",
       " ('sarsassociated', 0.8041493892669678),\n",
       " ('coronovirus', 0.8034523725509644),\n",
       " ('corona', 0.8019854426383972),\n",
       " ('hecv', 0.7925291061401367),\n",
       " ('sars-cov', 0.7923038005828857),\n",
       " ('navirus', 0.790370523929596),\n",
       " ('229e', 0.7846354246139526),\n",
       " ('hcov', 0.7732962369918823),\n",
       " ('hcov-229e', 0.7673474550247192),\n",
       " ('nl-63', 0.763729453086853),\n",
       " ('beta-coronavirus', 0.7631218433380127),\n",
       " ('ncov', 0.7621225118637085),\n",
       " ('sars-coronavirus', 0.7605894207954407),\n",
       " ('co-v', 0.7580375075340271),\n",
       " ('sarscov-2', 0.7563889026641846),\n",
       " ('hcov-nl63', 0.7547838687896729),\n",
       " ('bat-hku2-like', 0.7542920112609863),\n",
       " ('sars-cov-1', 0.7542612552642822),\n",
       " ('betacoronavirus', 0.754182755947113),\n",
       " ('alphacoronavirus', 0.7532768249511719),\n",
       " ('sars-hcov', 0.7530182600021362),\n",
       " ('oc43', 0.7524147033691406)]"
      ]
     },
     "execution_count": 12,
     "metadata": {},
     "output_type": "execute_result"
    }
   ],
   "source": [
    "model_sg.wv.most_similar('coronavirus', topn=25)"
   ]
  },
  {
   "cell_type": "code",
   "execution_count": 13,
   "metadata": {},
   "outputs": [
    {
     "data": {
      "text/plain": [
       "(25451807, 31781460)"
      ]
     },
     "execution_count": 13,
     "metadata": {},
     "output_type": "execute_result"
    }
   ],
   "source": [
    "# Update model with words from abstract\n",
    "\n",
    "model_sg.build_vocab(articles['abstract'], update=True)\n",
    "model_sg.train(articles['abstract'],\n",
    "               total_examples = model_sg.corpus_count,\n",
    "               epochs = model_sg.epochs)"
   ]
  },
  {
   "cell_type": "code",
   "execution_count": 14,
   "metadata": {},
   "outputs": [
    {
     "data": {
      "text/plain": [
       "[('cov', 0.8884381055831909),\n",
       " ('coronovirus', 0.831635594367981),\n",
       " ('sars-cov', 0.8238817453384399),\n",
       " ('sar-cov-2', 0.8229975700378418),\n",
       " ('sarsassociated', 0.8216931819915771),\n",
       " ('coronaviruses', 0.8208870887756348),\n",
       " ('sars-associated', 0.8177621364593506),\n",
       " ('co-v', 0.8140263557434082),\n",
       " ('sarscov-2', 0.8135048747062683),\n",
       " ('navirus', 0.8124586343765259),\n",
       " ('corona-virus', 0.8109472990036011),\n",
       " ('cov2', 0.8016222715377808),\n",
       " ('sars-co', 0.8007255792617798),\n",
       " ('corona', 0.7987117767333984),\n",
       " ('sars-cov-2', 0.7936427593231201),\n",
       " ('sars-hcov', 0.7934179306030273),\n",
       " ('sars-coronavirus', 0.7905791997909546),\n",
       " ('oc43', 0.7894622087478638),\n",
       " ('ronavirus', 0.7834591865539551),\n",
       " ('sars-coa', 0.7817895412445068),\n",
       " ('sarscov2', 0.7810839414596558),\n",
       " ('sads', 0.7786059379577637),\n",
       " ('229e', 0.7775371670722961),\n",
       " ('coro-navirus', 0.7773590087890625),\n",
       " ('beta-coronavirus', 0.77623450756073)]"
      ]
     },
     "execution_count": 14,
     "metadata": {},
     "output_type": "execute_result"
    }
   ],
   "source": [
    "model_sg.wv.most_similar('coronavirus', topn=25)"
   ]
  },
  {
   "cell_type": "code",
   "execution_count": null,
   "metadata": {},
   "outputs": [],
   "source": []
  },
  {
   "cell_type": "code",
   "execution_count": null,
   "metadata": {},
   "outputs": [],
   "source": []
  }
 ],
 "metadata": {
  "kernelspec": {
   "display_name": "Python 3",
   "language": "python",
   "name": "python3"
  },
  "language_info": {
   "codemirror_mode": {
    "name": "ipython",
    "version": 3
   },
   "file_extension": ".py",
   "mimetype": "text/x-python",
   "name": "python",
   "nbconvert_exporter": "python",
   "pygments_lexer": "ipython3",
   "version": "3.7.6"
  }
 },
 "nbformat": 4,
 "nbformat_minor": 4
}
