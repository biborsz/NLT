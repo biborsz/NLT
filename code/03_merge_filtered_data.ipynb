{
 "cells": [
  {
   "cell_type": "markdown",
   "metadata": {},
   "source": [
    "## Imports"
   ]
  },
  {
   "cell_type": "code",
   "execution_count": 1,
   "metadata": {},
   "outputs": [],
   "source": [
    "import pandas as pd\n",
    "import numpy as np"
   ]
  },
  {
   "cell_type": "markdown",
   "metadata": {},
   "source": [
    "## Read in csv"
   ]
  },
  {
   "cell_type": "code",
   "execution_count": 2,
   "metadata": {},
   "outputs": [],
   "source": [
    "text = pd.read_csv('NLT_data/combined_df.csv')\n",
    "articles = pd.read_csv('filtered_articles.csv')"
   ]
  },
  {
   "cell_type": "code",
   "execution_count": 3,
   "metadata": {},
   "outputs": [
    {
     "data": {
      "text/html": [
       "<div>\n",
       "<style scoped>\n",
       "    .dataframe tbody tr th:only-of-type {\n",
       "        vertical-align: middle;\n",
       "    }\n",
       "\n",
       "    .dataframe tbody tr th {\n",
       "        vertical-align: top;\n",
       "    }\n",
       "\n",
       "    .dataframe thead th {\n",
       "        text-align: right;\n",
       "    }\n",
       "</style>\n",
       "<table border=\"1\" class=\"dataframe\">\n",
       "  <thead>\n",
       "    <tr style=\"text-align: right;\">\n",
       "      <th></th>\n",
       "      <th>Unnamed: 0</th>\n",
       "      <th>paper_id</th>\n",
       "      <th>title</th>\n",
       "      <th>discussion</th>\n",
       "      <th>text_body</th>\n",
       "    </tr>\n",
       "  </thead>\n",
       "  <tbody>\n",
       "    <tr>\n",
       "      <th>0</th>\n",
       "      <td>0</td>\n",
       "      <td>d23435612750f9edf20673d47975786980fb98ee</td>\n",
       "      <td>The Flow Physics of COVID-19</td>\n",
       "      <td>NaN</td>\n",
       "      <td>Transmission of respiratory infections such as...</td>\n",
       "    </tr>\n",
       "    <tr>\n",
       "      <th>1</th>\n",
       "      <td>1</td>\n",
       "      <td>6b8271b465a5f5ce296ef370f4989a05b1d31833</td>\n",
       "      <td>THE SECOND WORLDWIDE WAVE OF INTEREST IN CORON...</td>\n",
       "      <td>The key finding is that GT forecasted the rise...</td>\n",
       "      <td>As of 7 pm Central European Time on 24 March, ...</td>\n",
       "    </tr>\n",
       "  </tbody>\n",
       "</table>\n",
       "</div>"
      ],
      "text/plain": [
       "   Unnamed: 0                                  paper_id  \\\n",
       "0           0  d23435612750f9edf20673d47975786980fb98ee   \n",
       "1           1  6b8271b465a5f5ce296ef370f4989a05b1d31833   \n",
       "\n",
       "                                               title  \\\n",
       "0                       The Flow Physics of COVID-19   \n",
       "1  THE SECOND WORLDWIDE WAVE OF INTEREST IN CORON...   \n",
       "\n",
       "                                          discussion  \\\n",
       "0                                                NaN   \n",
       "1  The key finding is that GT forecasted the rise...   \n",
       "\n",
       "                                           text_body  \n",
       "0  Transmission of respiratory infections such as...  \n",
       "1  As of 7 pm Central European Time on 24 March, ...  "
      ]
     },
     "execution_count": 3,
     "metadata": {},
     "output_type": "execute_result"
    }
   ],
   "source": [
    "text.head(2)"
   ]
  },
  {
   "cell_type": "code",
   "execution_count": 4,
   "metadata": {},
   "outputs": [
    {
     "data": {
      "text/html": [
       "<div>\n",
       "<style scoped>\n",
       "    .dataframe tbody tr th:only-of-type {\n",
       "        vertical-align: middle;\n",
       "    }\n",
       "\n",
       "    .dataframe tbody tr th {\n",
       "        vertical-align: top;\n",
       "    }\n",
       "\n",
       "    .dataframe thead th {\n",
       "        text-align: right;\n",
       "    }\n",
       "</style>\n",
       "<table border=\"1\" class=\"dataframe\">\n",
       "  <thead>\n",
       "    <tr style=\"text-align: right;\">\n",
       "      <th></th>\n",
       "      <th>cord_uid</th>\n",
       "      <th>sha</th>\n",
       "      <th>source_x</th>\n",
       "      <th>title</th>\n",
       "      <th>doi</th>\n",
       "      <th>pmcid</th>\n",
       "      <th>pubmed_id</th>\n",
       "      <th>license</th>\n",
       "      <th>abstract</th>\n",
       "      <th>publish_time</th>\n",
       "      <th>authors</th>\n",
       "      <th>journal</th>\n",
       "      <th>Microsoft Academic Paper ID</th>\n",
       "      <th>WHO #Covidence</th>\n",
       "      <th>arxiv_id</th>\n",
       "      <th>has_pdf_parse</th>\n",
       "      <th>has_pmc_xml_parse</th>\n",
       "      <th>full_text_file</th>\n",
       "      <th>url</th>\n",
       "    </tr>\n",
       "  </thead>\n",
       "  <tbody>\n",
       "    <tr>\n",
       "      <th>0</th>\n",
       "      <td>ymceytj3</td>\n",
       "      <td>e3d0d482ebd9a8ba81c254cc433f314142e72174</td>\n",
       "      <td>PMC</td>\n",
       "      <td>Crystal structure of murine sCEACAM1a[1,4]: a ...</td>\n",
       "      <td>10.1093/emboj/21.9.2076</td>\n",
       "      <td>PMC125375</td>\n",
       "      <td>11980704.0</td>\n",
       "      <td>unk</td>\n",
       "      <td>CEACAM1 is a member of the carcinoembryonic an...</td>\n",
       "      <td>2002-05-01</td>\n",
       "      <td>Tan, Kemin; Zelus, Bruce D.; Meijers, Rob; Liu...</td>\n",
       "      <td>The EMBO Journal</td>\n",
       "      <td>NaN</td>\n",
       "      <td>NaN</td>\n",
       "      <td>NaN</td>\n",
       "      <td>True</td>\n",
       "      <td>True</td>\n",
       "      <td>custom_license</td>\n",
       "      <td>http://europepmc.org/articles/pmc125375?pdf=re...</td>\n",
       "    </tr>\n",
       "    <tr>\n",
       "      <th>1</th>\n",
       "      <td>2sfqsfm1</td>\n",
       "      <td>cf584e00f637cbd8f1bb35f3f09f5ed07b71aeb0</td>\n",
       "      <td>PMC</td>\n",
       "      <td>Structure of coronavirus main proteinase revea...</td>\n",
       "      <td>10.1093/emboj/cdf327</td>\n",
       "      <td>PMC126080</td>\n",
       "      <td>12093723.0</td>\n",
       "      <td>unk</td>\n",
       "      <td>The key enzyme in coronavirus polyprotein proc...</td>\n",
       "      <td>2002-07-01</td>\n",
       "      <td>Anand, Kanchan; Palm, Gottfried J.; Mesters, J...</td>\n",
       "      <td>The EMBO Journal</td>\n",
       "      <td>NaN</td>\n",
       "      <td>NaN</td>\n",
       "      <td>NaN</td>\n",
       "      <td>True</td>\n",
       "      <td>True</td>\n",
       "      <td>custom_license</td>\n",
       "      <td>http://europepmc.org/articles/pmc126080?pdf=re...</td>\n",
       "    </tr>\n",
       "  </tbody>\n",
       "</table>\n",
       "</div>"
      ],
      "text/plain": [
       "   cord_uid                                       sha source_x  \\\n",
       "0  ymceytj3  e3d0d482ebd9a8ba81c254cc433f314142e72174      PMC   \n",
       "1  2sfqsfm1  cf584e00f637cbd8f1bb35f3f09f5ed07b71aeb0      PMC   \n",
       "\n",
       "                                               title                      doi  \\\n",
       "0  Crystal structure of murine sCEACAM1a[1,4]: a ...  10.1093/emboj/21.9.2076   \n",
       "1  Structure of coronavirus main proteinase revea...     10.1093/emboj/cdf327   \n",
       "\n",
       "       pmcid   pubmed_id license  \\\n",
       "0  PMC125375  11980704.0     unk   \n",
       "1  PMC126080  12093723.0     unk   \n",
       "\n",
       "                                            abstract publish_time  \\\n",
       "0  CEACAM1 is a member of the carcinoembryonic an...   2002-05-01   \n",
       "1  The key enzyme in coronavirus polyprotein proc...   2002-07-01   \n",
       "\n",
       "                                             authors           journal  \\\n",
       "0  Tan, Kemin; Zelus, Bruce D.; Meijers, Rob; Liu...  The EMBO Journal   \n",
       "1  Anand, Kanchan; Palm, Gottfried J.; Mesters, J...  The EMBO Journal   \n",
       "\n",
       "   Microsoft Academic Paper ID WHO #Covidence arxiv_id  has_pdf_parse  \\\n",
       "0                          NaN            NaN      NaN           True   \n",
       "1                          NaN            NaN      NaN           True   \n",
       "\n",
       "   has_pmc_xml_parse  full_text_file  \\\n",
       "0               True  custom_license   \n",
       "1               True  custom_license   \n",
       "\n",
       "                                                 url  \n",
       "0  http://europepmc.org/articles/pmc125375?pdf=re...  \n",
       "1  http://europepmc.org/articles/pmc126080?pdf=re...  "
      ]
     },
     "execution_count": 4,
     "metadata": {},
     "output_type": "execute_result"
    }
   ],
   "source": [
    "articles.head(2)"
   ]
  },
  {
   "cell_type": "markdown",
   "metadata": {},
   "source": [
    "## Check dataframes"
   ]
  },
  {
   "cell_type": "markdown",
   "metadata": {},
   "source": [
    "### Text dataframe"
   ]
  },
  {
   "cell_type": "code",
   "execution_count": 5,
   "metadata": {},
   "outputs": [
    {
     "name": "stdout",
     "output_type": "stream",
     "text": [
      "(41564, 5)\n"
     ]
    },
    {
     "data": {
      "text/plain": [
       "Unnamed: 0        0\n",
       "paper_id          0\n",
       "title          4364\n",
       "discussion    24099\n",
       "text_body         0\n",
       "dtype: int64"
      ]
     },
     "execution_count": 5,
     "metadata": {},
     "output_type": "execute_result"
    }
   ],
   "source": [
    "# Number of rows and cols in the text df\n",
    "print(text.shape)\n",
    "\n",
    "# Missing values in text df\n",
    "text.isnull().sum()"
   ]
  },
  {
   "cell_type": "markdown",
   "metadata": {},
   "source": [
    "### Filtered articles dataframe"
   ]
  },
  {
   "cell_type": "code",
   "execution_count": 6,
   "metadata": {
    "scrolled": false
   },
   "outputs": [
    {
     "name": "stdout",
     "output_type": "stream",
     "text": [
      "(20855, 19)\n"
     ]
    },
    {
     "data": {
      "text/plain": [
       "cord_uid                           0\n",
       "sha                             5060\n",
       "source_x                           0\n",
       "title                              0\n",
       "doi                             1871\n",
       "pmcid                           6782\n",
       "pubmed_id                       8277\n",
       "license                            0\n",
       "abstract                        3572\n",
       "publish_time                       8\n",
       "authors                          367\n",
       "journal                         4365\n",
       "Microsoft Academic Paper ID    19986\n",
       "WHO #Covidence                 19220\n",
       "arxiv_id                       20294\n",
       "has_pdf_parse                      0\n",
       "has_pmc_xml_parse                  0\n",
       "full_text_file                  3237\n",
       "url                              407\n",
       "dtype: int64"
      ]
     },
     "execution_count": 6,
     "metadata": {},
     "output_type": "execute_result"
    }
   ],
   "source": [
    "# Number of rows and cols in the filtered articles df\n",
    "print(articles.shape)\n",
    "\n",
    "# Missing values in filtered articles df\n",
    "articles.isnull().sum()"
   ]
  },
  {
   "cell_type": "markdown",
   "metadata": {},
   "source": [
    "## Merge the dataframes\n",
    "\n",
    "Since the text dataframe has no missing paper IDs, we will first join on the paper ID column in the text dataframe and the corresponding sha column in the articles dataframe. Then, we will join on the titles of both dataframes and concat the two merged dataframes into one. "
   ]
  },
  {
   "cell_type": "markdown",
   "metadata": {},
   "source": [
    "### Join on paper ID"
   ]
  },
  {
   "cell_type": "code",
   "execution_count": 7,
   "metadata": {},
   "outputs": [],
   "source": [
    "# Inner join on sha and paper_id\n",
    "corona1 = pd.merge(articles, text, how='inner', left_on='sha', right_on='paper_id')"
   ]
  },
  {
   "cell_type": "code",
   "execution_count": 8,
   "metadata": {},
   "outputs": [
    {
     "data": {
      "text/plain": [
       "(14879, 24)"
      ]
     },
     "execution_count": 8,
     "metadata": {},
     "output_type": "execute_result"
    }
   ],
   "source": [
    "# Number of rows\n",
    "corona1.shape"
   ]
  },
  {
   "cell_type": "code",
   "execution_count": 9,
   "metadata": {},
   "outputs": [
    {
     "data": {
      "text/html": [
       "<div>\n",
       "<style scoped>\n",
       "    .dataframe tbody tr th:only-of-type {\n",
       "        vertical-align: middle;\n",
       "    }\n",
       "\n",
       "    .dataframe tbody tr th {\n",
       "        vertical-align: top;\n",
       "    }\n",
       "\n",
       "    .dataframe thead th {\n",
       "        text-align: right;\n",
       "    }\n",
       "</style>\n",
       "<table border=\"1\" class=\"dataframe\">\n",
       "  <thead>\n",
       "    <tr style=\"text-align: right;\">\n",
       "      <th></th>\n",
       "      <th>cord_uid</th>\n",
       "      <th>sha</th>\n",
       "      <th>source_x</th>\n",
       "      <th>title_x</th>\n",
       "      <th>doi</th>\n",
       "      <th>pmcid</th>\n",
       "      <th>pubmed_id</th>\n",
       "      <th>license</th>\n",
       "      <th>abstract</th>\n",
       "      <th>publish_time</th>\n",
       "      <th>...</th>\n",
       "      <th>arxiv_id</th>\n",
       "      <th>has_pdf_parse</th>\n",
       "      <th>has_pmc_xml_parse</th>\n",
       "      <th>full_text_file</th>\n",
       "      <th>url</th>\n",
       "      <th>Unnamed: 0</th>\n",
       "      <th>paper_id</th>\n",
       "      <th>title_y</th>\n",
       "      <th>discussion</th>\n",
       "      <th>text_body</th>\n",
       "    </tr>\n",
       "  </thead>\n",
       "  <tbody>\n",
       "    <tr>\n",
       "      <th>0</th>\n",
       "      <td>ymceytj3</td>\n",
       "      <td>e3d0d482ebd9a8ba81c254cc433f314142e72174</td>\n",
       "      <td>PMC</td>\n",
       "      <td>Crystal structure of murine sCEACAM1a[1,4]: a ...</td>\n",
       "      <td>10.1093/emboj/21.9.2076</td>\n",
       "      <td>PMC125375</td>\n",
       "      <td>11980704.0</td>\n",
       "      <td>unk</td>\n",
       "      <td>CEACAM1 is a member of the carcinoembryonic an...</td>\n",
       "      <td>2002-05-01</td>\n",
       "      <td>...</td>\n",
       "      <td>NaN</td>\n",
       "      <td>True</td>\n",
       "      <td>True</td>\n",
       "      <td>custom_license</td>\n",
       "      <td>http://europepmc.org/articles/pmc125375?pdf=re...</td>\n",
       "      <td>15547</td>\n",
       "      <td>e3d0d482ebd9a8ba81c254cc433f314142e72174</td>\n",
       "      <td>NaN</td>\n",
       "      <td>NaN</td>\n",
       "      <td>Carcinoembryonic antigen (CEA; CD66e) was init...</td>\n",
       "    </tr>\n",
       "    <tr>\n",
       "      <th>1</th>\n",
       "      <td>2sfqsfm1</td>\n",
       "      <td>cf584e00f637cbd8f1bb35f3f09f5ed07b71aeb0</td>\n",
       "      <td>PMC</td>\n",
       "      <td>Structure of coronavirus main proteinase revea...</td>\n",
       "      <td>10.1093/emboj/cdf327</td>\n",
       "      <td>PMC126080</td>\n",
       "      <td>12093723.0</td>\n",
       "      <td>unk</td>\n",
       "      <td>The key enzyme in coronavirus polyprotein proc...</td>\n",
       "      <td>2002-07-01</td>\n",
       "      <td>...</td>\n",
       "      <td>NaN</td>\n",
       "      <td>True</td>\n",
       "      <td>True</td>\n",
       "      <td>custom_license</td>\n",
       "      <td>http://europepmc.org/articles/pmc126080?pdf=re...</td>\n",
       "      <td>18428</td>\n",
       "      <td>cf584e00f637cbd8f1bb35f3f09f5ed07b71aeb0</td>\n",
       "      <td>NaN</td>\n",
       "      <td>NaN</td>\n",
       "      <td>Transmissible gastroenteritis virus (TGEV) bel...</td>\n",
       "    </tr>\n",
       "  </tbody>\n",
       "</table>\n",
       "<p>2 rows × 24 columns</p>\n",
       "</div>"
      ],
      "text/plain": [
       "   cord_uid                                       sha source_x  \\\n",
       "0  ymceytj3  e3d0d482ebd9a8ba81c254cc433f314142e72174      PMC   \n",
       "1  2sfqsfm1  cf584e00f637cbd8f1bb35f3f09f5ed07b71aeb0      PMC   \n",
       "\n",
       "                                             title_x                      doi  \\\n",
       "0  Crystal structure of murine sCEACAM1a[1,4]: a ...  10.1093/emboj/21.9.2076   \n",
       "1  Structure of coronavirus main proteinase revea...     10.1093/emboj/cdf327   \n",
       "\n",
       "       pmcid   pubmed_id license  \\\n",
       "0  PMC125375  11980704.0     unk   \n",
       "1  PMC126080  12093723.0     unk   \n",
       "\n",
       "                                            abstract publish_time  ...  \\\n",
       "0  CEACAM1 is a member of the carcinoembryonic an...   2002-05-01  ...   \n",
       "1  The key enzyme in coronavirus polyprotein proc...   2002-07-01  ...   \n",
       "\n",
       "  arxiv_id has_pdf_parse  has_pmc_xml_parse  full_text_file  \\\n",
       "0      NaN          True               True  custom_license   \n",
       "1      NaN          True               True  custom_license   \n",
       "\n",
       "                                                 url  Unnamed: 0  \\\n",
       "0  http://europepmc.org/articles/pmc125375?pdf=re...       15547   \n",
       "1  http://europepmc.org/articles/pmc126080?pdf=re...       18428   \n",
       "\n",
       "                                   paper_id title_y discussion  \\\n",
       "0  e3d0d482ebd9a8ba81c254cc433f314142e72174     NaN        NaN   \n",
       "1  cf584e00f637cbd8f1bb35f3f09f5ed07b71aeb0     NaN        NaN   \n",
       "\n",
       "                                           text_body  \n",
       "0  Carcinoembryonic antigen (CEA; CD66e) was init...  \n",
       "1  Transmissible gastroenteritis virus (TGEV) bel...  \n",
       "\n",
       "[2 rows x 24 columns]"
      ]
     },
     "execution_count": 9,
     "metadata": {},
     "output_type": "execute_result"
    }
   ],
   "source": [
    "corona1.head(2)"
   ]
  },
  {
   "cell_type": "markdown",
   "metadata": {},
   "source": [
    "### Join on title"
   ]
  },
  {
   "cell_type": "code",
   "execution_count": 10,
   "metadata": {},
   "outputs": [],
   "source": [
    "# Inner join on title \n",
    "corona2 = pd.merge(articles, text, how='inner', on='title')"
   ]
  },
  {
   "cell_type": "code",
   "execution_count": 11,
   "metadata": {},
   "outputs": [
    {
     "data": {
      "text/plain": [
       "(8341, 23)"
      ]
     },
     "execution_count": 11,
     "metadata": {},
     "output_type": "execute_result"
    }
   ],
   "source": [
    "# Number of rows\n",
    "corona2.shape"
   ]
  },
  {
   "cell_type": "code",
   "execution_count": 12,
   "metadata": {},
   "outputs": [
    {
     "data": {
      "text/html": [
       "<div>\n",
       "<style scoped>\n",
       "    .dataframe tbody tr th:only-of-type {\n",
       "        vertical-align: middle;\n",
       "    }\n",
       "\n",
       "    .dataframe tbody tr th {\n",
       "        vertical-align: top;\n",
       "    }\n",
       "\n",
       "    .dataframe thead th {\n",
       "        text-align: right;\n",
       "    }\n",
       "</style>\n",
       "<table border=\"1\" class=\"dataframe\">\n",
       "  <thead>\n",
       "    <tr style=\"text-align: right;\">\n",
       "      <th></th>\n",
       "      <th>cord_uid</th>\n",
       "      <th>sha</th>\n",
       "      <th>source_x</th>\n",
       "      <th>title</th>\n",
       "      <th>doi</th>\n",
       "      <th>pmcid</th>\n",
       "      <th>pubmed_id</th>\n",
       "      <th>license</th>\n",
       "      <th>abstract</th>\n",
       "      <th>publish_time</th>\n",
       "      <th>...</th>\n",
       "      <th>WHO #Covidence</th>\n",
       "      <th>arxiv_id</th>\n",
       "      <th>has_pdf_parse</th>\n",
       "      <th>has_pmc_xml_parse</th>\n",
       "      <th>full_text_file</th>\n",
       "      <th>url</th>\n",
       "      <th>Unnamed: 0</th>\n",
       "      <th>paper_id</th>\n",
       "      <th>discussion</th>\n",
       "      <th>text_body</th>\n",
       "    </tr>\n",
       "  </thead>\n",
       "  <tbody>\n",
       "    <tr>\n",
       "      <th>0</th>\n",
       "      <td>1wswi7us</td>\n",
       "      <td>59ffca26c9d1f881e4e37e7c5af626d72d858dc4</td>\n",
       "      <td>PMC</td>\n",
       "      <td>Relationship of SARS-CoV to other pathogenic R...</td>\n",
       "      <td>10.1186/1471-2105-4-43</td>\n",
       "      <td>PMC222961</td>\n",
       "      <td>14499005.0</td>\n",
       "      <td>no-cc</td>\n",
       "      <td>BACKGROUND: The exact origin of the cause of t...</td>\n",
       "      <td>2003-09-20</td>\n",
       "      <td>...</td>\n",
       "      <td>NaN</td>\n",
       "      <td>NaN</td>\n",
       "      <td>True</td>\n",
       "      <td>True</td>\n",
       "      <td>custom_license</td>\n",
       "      <td>https://www.ncbi.nlm.nih.gov/pmc/articles/PMC2...</td>\n",
       "      <td>14464</td>\n",
       "      <td>59ffca26c9d1f881e4e37e7c5af626d72d858dc4</td>\n",
       "      <td>NaN</td>\n",
       "      <td>Severe Acute Respiratory Syndrome (SARS), a ne...</td>\n",
       "    </tr>\n",
       "    <tr>\n",
       "      <th>1</th>\n",
       "      <td>yy96yeu9</td>\n",
       "      <td>c63c4d58d170136b8d3b5a66424b5ac3f73a92d9</td>\n",
       "      <td>PMC</td>\n",
       "      <td>Viral Discovery and Sequence Recovery Using DN...</td>\n",
       "      <td>10.1371/journal.pbio.0000002</td>\n",
       "      <td>PMC261870</td>\n",
       "      <td>14624234.0</td>\n",
       "      <td>cc-by</td>\n",
       "      <td>Because of the constant threat posed by emergi...</td>\n",
       "      <td>2003-11-17</td>\n",
       "      <td>...</td>\n",
       "      <td>NaN</td>\n",
       "      <td>NaN</td>\n",
       "      <td>True</td>\n",
       "      <td>True</td>\n",
       "      <td>comm_use_subset</td>\n",
       "      <td>https://www.ncbi.nlm.nih.gov/pmc/articles/PMC2...</td>\n",
       "      <td>4248</td>\n",
       "      <td>c63c4d58d170136b8d3b5a66424b5ac3f73a92d9</td>\n",
       "      <td>In this report, we have demonstrated the viabi...</td>\n",
       "      <td>Over the past two decades, technological advan...</td>\n",
       "    </tr>\n",
       "  </tbody>\n",
       "</table>\n",
       "<p>2 rows × 23 columns</p>\n",
       "</div>"
      ],
      "text/plain": [
       "   cord_uid                                       sha source_x  \\\n",
       "0  1wswi7us  59ffca26c9d1f881e4e37e7c5af626d72d858dc4      PMC   \n",
       "1  yy96yeu9  c63c4d58d170136b8d3b5a66424b5ac3f73a92d9      PMC   \n",
       "\n",
       "                                               title  \\\n",
       "0  Relationship of SARS-CoV to other pathogenic R...   \n",
       "1  Viral Discovery and Sequence Recovery Using DN...   \n",
       "\n",
       "                            doi      pmcid   pubmed_id license  \\\n",
       "0        10.1186/1471-2105-4-43  PMC222961  14499005.0   no-cc   \n",
       "1  10.1371/journal.pbio.0000002  PMC261870  14624234.0   cc-by   \n",
       "\n",
       "                                            abstract publish_time  ...  \\\n",
       "0  BACKGROUND: The exact origin of the cause of t...   2003-09-20  ...   \n",
       "1  Because of the constant threat posed by emergi...   2003-11-17  ...   \n",
       "\n",
       "  WHO #Covidence arxiv_id  has_pdf_parse has_pmc_xml_parse   full_text_file  \\\n",
       "0            NaN      NaN           True              True   custom_license   \n",
       "1            NaN      NaN           True              True  comm_use_subset   \n",
       "\n",
       "                                                 url  Unnamed: 0  \\\n",
       "0  https://www.ncbi.nlm.nih.gov/pmc/articles/PMC2...       14464   \n",
       "1  https://www.ncbi.nlm.nih.gov/pmc/articles/PMC2...        4248   \n",
       "\n",
       "                                   paper_id  \\\n",
       "0  59ffca26c9d1f881e4e37e7c5af626d72d858dc4   \n",
       "1  c63c4d58d170136b8d3b5a66424b5ac3f73a92d9   \n",
       "\n",
       "                                          discussion  \\\n",
       "0                                                NaN   \n",
       "1  In this report, we have demonstrated the viabi...   \n",
       "\n",
       "                                           text_body  \n",
       "0  Severe Acute Respiratory Syndrome (SARS), a ne...  \n",
       "1  Over the past two decades, technological advan...  \n",
       "\n",
       "[2 rows x 23 columns]"
      ]
     },
     "execution_count": 12,
     "metadata": {},
     "output_type": "execute_result"
    }
   ],
   "source": [
    "corona2.head(2)"
   ]
  },
  {
   "cell_type": "markdown",
   "metadata": {},
   "source": [
    "## Check for difference in merged dataframes\n",
    "\n",
    "Before concatenating the two merged dataframes, we're going to first compare the two and clean up each dataframe accordingly."
   ]
  },
  {
   "cell_type": "markdown",
   "metadata": {},
   "source": [
    "### Missing values and differences in columns\n",
    "\n",
    "The first merge we made was on the `paper_id` and `sha`, but since the column names were different on the two dataframes we're left with a lot of redundant columns. Let's drop the `sha` and `title_y` columns as well as any other column we don't plan to use."
   ]
  },
  {
   "cell_type": "code",
   "execution_count": 13,
   "metadata": {},
   "outputs": [
    {
     "data": {
      "text/plain": [
       "cord_uid                           0\n",
       "sha                                0\n",
       "source_x                           0\n",
       "title_x                            0\n",
       "doi                              717\n",
       "pmcid                           5080\n",
       "pubmed_id                       6155\n",
       "license                            0\n",
       "abstract                        2111\n",
       "publish_time                       0\n",
       "authors                           69\n",
       "journal                         2986\n",
       "Microsoft Academic Paper ID    14561\n",
       "WHO #Covidence                 14403\n",
       "arxiv_id                       14353\n",
       "has_pdf_parse                      0\n",
       "has_pmc_xml_parse                  0\n",
       "full_text_file                     0\n",
       "url                              111\n",
       "Unnamed: 0                         0\n",
       "paper_id                           0\n",
       "title_y                         1578\n",
       "discussion                      8266\n",
       "text_body                          0\n",
       "dtype: int64"
      ]
     },
     "execution_count": 13,
     "metadata": {},
     "output_type": "execute_result"
    }
   ],
   "source": [
    "corona1.isnull().sum()"
   ]
  },
  {
   "cell_type": "markdown",
   "metadata": {},
   "source": [
    "For the second merged dataframe, we'll drop again drop the `sha` column since the `paper_id` column has not missing values as well as all the columns we don't plan to use."
   ]
  },
  {
   "cell_type": "code",
   "execution_count": 14,
   "metadata": {
    "scrolled": false
   },
   "outputs": [
    {
     "data": {
      "text/plain": [
       "cord_uid                          0\n",
       "sha                              23\n",
       "source_x                          0\n",
       "title                             0\n",
       "doi                             499\n",
       "pmcid                          2161\n",
       "pubmed_id                      2710\n",
       "license                           0\n",
       "abstract                        380\n",
       "publish_time                      0\n",
       "authors                           8\n",
       "journal                        1828\n",
       "Microsoft Academic Paper ID    8164\n",
       "WHO #Covidence                 8100\n",
       "arxiv_id                       7937\n",
       "has_pdf_parse                     0\n",
       "has_pmc_xml_parse                 0\n",
       "full_text_file                    8\n",
       "url                              92\n",
       "Unnamed: 0                        0\n",
       "paper_id                          0\n",
       "discussion                     3881\n",
       "text_body                         0\n",
       "dtype: int64"
      ]
     },
     "execution_count": 14,
     "metadata": {},
     "output_type": "execute_result"
    }
   ],
   "source": [
    "corona2.isnull().sum()"
   ]
  },
  {
   "cell_type": "markdown",
   "metadata": {},
   "source": [
    "## Drop unused and redundant columns\n",
    "\n",
    "We're going to clean up the dataframe a bit by dropping the redundant columns as well as the columns we do not plan to use in our analysis. Then, we'll rename some columns before finally concatenating the two."
   ]
  },
  {
   "cell_type": "markdown",
   "metadata": {},
   "source": [
    "### Clean merged dataframe 1"
   ]
  },
  {
   "cell_type": "code",
   "execution_count": 15,
   "metadata": {},
   "outputs": [
    {
     "data": {
      "text/html": [
       "<div>\n",
       "<style scoped>\n",
       "    .dataframe tbody tr th:only-of-type {\n",
       "        vertical-align: middle;\n",
       "    }\n",
       "\n",
       "    .dataframe tbody tr th {\n",
       "        vertical-align: top;\n",
       "    }\n",
       "\n",
       "    .dataframe thead th {\n",
       "        text-align: right;\n",
       "    }\n",
       "</style>\n",
       "<table border=\"1\" class=\"dataframe\">\n",
       "  <thead>\n",
       "    <tr style=\"text-align: right;\">\n",
       "      <th></th>\n",
       "      <th>source</th>\n",
       "      <th>title</th>\n",
       "      <th>abstract</th>\n",
       "      <th>publish_time</th>\n",
       "      <th>authors</th>\n",
       "      <th>journal</th>\n",
       "      <th>url</th>\n",
       "      <th>paper_id</th>\n",
       "      <th>discussion</th>\n",
       "      <th>text_body</th>\n",
       "    </tr>\n",
       "  </thead>\n",
       "  <tbody>\n",
       "    <tr>\n",
       "      <th>0</th>\n",
       "      <td>PMC</td>\n",
       "      <td>Crystal structure of murine sCEACAM1a[1,4]: a ...</td>\n",
       "      <td>CEACAM1 is a member of the carcinoembryonic an...</td>\n",
       "      <td>2002-05-01</td>\n",
       "      <td>Tan, Kemin; Zelus, Bruce D.; Meijers, Rob; Liu...</td>\n",
       "      <td>The EMBO Journal</td>\n",
       "      <td>http://europepmc.org/articles/pmc125375?pdf=re...</td>\n",
       "      <td>e3d0d482ebd9a8ba81c254cc433f314142e72174</td>\n",
       "      <td>NaN</td>\n",
       "      <td>Carcinoembryonic antigen (CEA; CD66e) was init...</td>\n",
       "    </tr>\n",
       "    <tr>\n",
       "      <th>1</th>\n",
       "      <td>PMC</td>\n",
       "      <td>Structure of coronavirus main proteinase revea...</td>\n",
       "      <td>The key enzyme in coronavirus polyprotein proc...</td>\n",
       "      <td>2002-07-01</td>\n",
       "      <td>Anand, Kanchan; Palm, Gottfried J.; Mesters, J...</td>\n",
       "      <td>The EMBO Journal</td>\n",
       "      <td>http://europepmc.org/articles/pmc126080?pdf=re...</td>\n",
       "      <td>cf584e00f637cbd8f1bb35f3f09f5ed07b71aeb0</td>\n",
       "      <td>NaN</td>\n",
       "      <td>Transmissible gastroenteritis virus (TGEV) bel...</td>\n",
       "    </tr>\n",
       "  </tbody>\n",
       "</table>\n",
       "</div>"
      ],
      "text/plain": [
       "  source                                              title  \\\n",
       "0    PMC  Crystal structure of murine sCEACAM1a[1,4]: a ...   \n",
       "1    PMC  Structure of coronavirus main proteinase revea...   \n",
       "\n",
       "                                            abstract publish_time  \\\n",
       "0  CEACAM1 is a member of the carcinoembryonic an...   2002-05-01   \n",
       "1  The key enzyme in coronavirus polyprotein proc...   2002-07-01   \n",
       "\n",
       "                                             authors           journal  \\\n",
       "0  Tan, Kemin; Zelus, Bruce D.; Meijers, Rob; Liu...  The EMBO Journal   \n",
       "1  Anand, Kanchan; Palm, Gottfried J.; Mesters, J...  The EMBO Journal   \n",
       "\n",
       "                                                 url  \\\n",
       "0  http://europepmc.org/articles/pmc125375?pdf=re...   \n",
       "1  http://europepmc.org/articles/pmc126080?pdf=re...   \n",
       "\n",
       "                                   paper_id discussion  \\\n",
       "0  e3d0d482ebd9a8ba81c254cc433f314142e72174        NaN   \n",
       "1  cf584e00f637cbd8f1bb35f3f09f5ed07b71aeb0        NaN   \n",
       "\n",
       "                                           text_body  \n",
       "0  Carcinoembryonic antigen (CEA; CD66e) was init...  \n",
       "1  Transmissible gastroenteritis virus (TGEV) bel...  "
      ]
     },
     "execution_count": 15,
     "metadata": {},
     "output_type": "execute_result"
    }
   ],
   "source": [
    "# Drop redundant and unused columns\n",
    "corona1.drop(columns=['cord_uid', 'sha', 'doi', 'pmcid', 'pubmed_id', 'license', 'Microsoft Academic Paper ID',\n",
    "                      'WHO #Covidence', 'arxiv_id', 'has_pdf_parse', 'has_pmc_xml_parse', 'full_text_file',\n",
    "                      'Unnamed: 0', 'title_y'], inplace=True)\n",
    "\n",
    "# Rename columns \n",
    "corona1.rename(columns={'title_x': 'title', 'source_x': 'source'}, inplace=True)\n",
    "\n",
    "corona1.head(2)"
   ]
  },
  {
   "cell_type": "markdown",
   "metadata": {},
   "source": [
    "### Clean merged dataframe 2"
   ]
  },
  {
   "cell_type": "code",
   "execution_count": 16,
   "metadata": {},
   "outputs": [
    {
     "data": {
      "text/html": [
       "<div>\n",
       "<style scoped>\n",
       "    .dataframe tbody tr th:only-of-type {\n",
       "        vertical-align: middle;\n",
       "    }\n",
       "\n",
       "    .dataframe tbody tr th {\n",
       "        vertical-align: top;\n",
       "    }\n",
       "\n",
       "    .dataframe thead th {\n",
       "        text-align: right;\n",
       "    }\n",
       "</style>\n",
       "<table border=\"1\" class=\"dataframe\">\n",
       "  <thead>\n",
       "    <tr style=\"text-align: right;\">\n",
       "      <th></th>\n",
       "      <th>source</th>\n",
       "      <th>title</th>\n",
       "      <th>abstract</th>\n",
       "      <th>publish_time</th>\n",
       "      <th>authors</th>\n",
       "      <th>journal</th>\n",
       "      <th>url</th>\n",
       "      <th>paper_id</th>\n",
       "      <th>discussion</th>\n",
       "      <th>text_body</th>\n",
       "    </tr>\n",
       "  </thead>\n",
       "  <tbody>\n",
       "    <tr>\n",
       "      <th>0</th>\n",
       "      <td>PMC</td>\n",
       "      <td>Relationship of SARS-CoV to other pathogenic R...</td>\n",
       "      <td>BACKGROUND: The exact origin of the cause of t...</td>\n",
       "      <td>2003-09-20</td>\n",
       "      <td>Yap, Yee Leng; Zhang, Xue Wu; Danchin, Antoine</td>\n",
       "      <td>BMC Bioinformatics</td>\n",
       "      <td>https://www.ncbi.nlm.nih.gov/pmc/articles/PMC2...</td>\n",
       "      <td>59ffca26c9d1f881e4e37e7c5af626d72d858dc4</td>\n",
       "      <td>NaN</td>\n",
       "      <td>Severe Acute Respiratory Syndrome (SARS), a ne...</td>\n",
       "    </tr>\n",
       "    <tr>\n",
       "      <th>1</th>\n",
       "      <td>PMC</td>\n",
       "      <td>Viral Discovery and Sequence Recovery Using DN...</td>\n",
       "      <td>Because of the constant threat posed by emergi...</td>\n",
       "      <td>2003-11-17</td>\n",
       "      <td>Wang, David; Urisman, Anatoly; Liu, Yu-Tsueng;...</td>\n",
       "      <td>PLoS Biol</td>\n",
       "      <td>https://www.ncbi.nlm.nih.gov/pmc/articles/PMC2...</td>\n",
       "      <td>c63c4d58d170136b8d3b5a66424b5ac3f73a92d9</td>\n",
       "      <td>In this report, we have demonstrated the viabi...</td>\n",
       "      <td>Over the past two decades, technological advan...</td>\n",
       "    </tr>\n",
       "  </tbody>\n",
       "</table>\n",
       "</div>"
      ],
      "text/plain": [
       "  source                                              title  \\\n",
       "0    PMC  Relationship of SARS-CoV to other pathogenic R...   \n",
       "1    PMC  Viral Discovery and Sequence Recovery Using DN...   \n",
       "\n",
       "                                            abstract publish_time  \\\n",
       "0  BACKGROUND: The exact origin of the cause of t...   2003-09-20   \n",
       "1  Because of the constant threat posed by emergi...   2003-11-17   \n",
       "\n",
       "                                             authors             journal  \\\n",
       "0     Yap, Yee Leng; Zhang, Xue Wu; Danchin, Antoine  BMC Bioinformatics   \n",
       "1  Wang, David; Urisman, Anatoly; Liu, Yu-Tsueng;...           PLoS Biol   \n",
       "\n",
       "                                                 url  \\\n",
       "0  https://www.ncbi.nlm.nih.gov/pmc/articles/PMC2...   \n",
       "1  https://www.ncbi.nlm.nih.gov/pmc/articles/PMC2...   \n",
       "\n",
       "                                   paper_id  \\\n",
       "0  59ffca26c9d1f881e4e37e7c5af626d72d858dc4   \n",
       "1  c63c4d58d170136b8d3b5a66424b5ac3f73a92d9   \n",
       "\n",
       "                                          discussion  \\\n",
       "0                                                NaN   \n",
       "1  In this report, we have demonstrated the viabi...   \n",
       "\n",
       "                                           text_body  \n",
       "0  Severe Acute Respiratory Syndrome (SARS), a ne...  \n",
       "1  Over the past two decades, technological advan...  "
      ]
     },
     "execution_count": 16,
     "metadata": {},
     "output_type": "execute_result"
    }
   ],
   "source": [
    "# Drop unused columns\n",
    "corona2.drop(columns=['cord_uid', 'sha', 'doi', 'pmcid', 'pubmed_id', 'license', 'Microsoft Academic Paper ID',\n",
    "                      'WHO #Covidence', 'arxiv_id', 'has_pdf_parse', 'has_pmc_xml_parse', 'full_text_file',\n",
    "                      'Unnamed: 0'], inplace=True)\n",
    "\n",
    "# Rename columns \n",
    "corona2.rename(columns={'source_x': 'source'}, inplace=True)\n",
    "\n",
    "corona2.head(2)"
   ]
  },
  {
   "cell_type": "markdown",
   "metadata": {},
   "source": [
    "## Concatenating merged dataframes"
   ]
  },
  {
   "cell_type": "code",
   "execution_count": 17,
   "metadata": {},
   "outputs": [
    {
     "data": {
      "text/html": [
       "<div>\n",
       "<style scoped>\n",
       "    .dataframe tbody tr th:only-of-type {\n",
       "        vertical-align: middle;\n",
       "    }\n",
       "\n",
       "    .dataframe tbody tr th {\n",
       "        vertical-align: top;\n",
       "    }\n",
       "\n",
       "    .dataframe thead th {\n",
       "        text-align: right;\n",
       "    }\n",
       "</style>\n",
       "<table border=\"1\" class=\"dataframe\">\n",
       "  <thead>\n",
       "    <tr style=\"text-align: right;\">\n",
       "      <th></th>\n",
       "      <th>source</th>\n",
       "      <th>title</th>\n",
       "      <th>abstract</th>\n",
       "      <th>publish_time</th>\n",
       "      <th>authors</th>\n",
       "      <th>journal</th>\n",
       "      <th>url</th>\n",
       "      <th>paper_id</th>\n",
       "      <th>discussion</th>\n",
       "      <th>text_body</th>\n",
       "    </tr>\n",
       "  </thead>\n",
       "  <tbody>\n",
       "    <tr>\n",
       "      <th>0</th>\n",
       "      <td>PMC</td>\n",
       "      <td>Crystal structure of murine sCEACAM1a[1,4]: a ...</td>\n",
       "      <td>CEACAM1 is a member of the carcinoembryonic an...</td>\n",
       "      <td>2002-05-01</td>\n",
       "      <td>Tan, Kemin; Zelus, Bruce D.; Meijers, Rob; Liu...</td>\n",
       "      <td>The EMBO Journal</td>\n",
       "      <td>http://europepmc.org/articles/pmc125375?pdf=re...</td>\n",
       "      <td>e3d0d482ebd9a8ba81c254cc433f314142e72174</td>\n",
       "      <td>NaN</td>\n",
       "      <td>Carcinoembryonic antigen (CEA; CD66e) was init...</td>\n",
       "    </tr>\n",
       "    <tr>\n",
       "      <th>1</th>\n",
       "      <td>PMC</td>\n",
       "      <td>Structure of coronavirus main proteinase revea...</td>\n",
       "      <td>The key enzyme in coronavirus polyprotein proc...</td>\n",
       "      <td>2002-07-01</td>\n",
       "      <td>Anand, Kanchan; Palm, Gottfried J.; Mesters, J...</td>\n",
       "      <td>The EMBO Journal</td>\n",
       "      <td>http://europepmc.org/articles/pmc126080?pdf=re...</td>\n",
       "      <td>cf584e00f637cbd8f1bb35f3f09f5ed07b71aeb0</td>\n",
       "      <td>NaN</td>\n",
       "      <td>Transmissible gastroenteritis virus (TGEV) bel...</td>\n",
       "    </tr>\n",
       "  </tbody>\n",
       "</table>\n",
       "</div>"
      ],
      "text/plain": [
       "  source                                              title  \\\n",
       "0    PMC  Crystal structure of murine sCEACAM1a[1,4]: a ...   \n",
       "1    PMC  Structure of coronavirus main proteinase revea...   \n",
       "\n",
       "                                            abstract publish_time  \\\n",
       "0  CEACAM1 is a member of the carcinoembryonic an...   2002-05-01   \n",
       "1  The key enzyme in coronavirus polyprotein proc...   2002-07-01   \n",
       "\n",
       "                                             authors           journal  \\\n",
       "0  Tan, Kemin; Zelus, Bruce D.; Meijers, Rob; Liu...  The EMBO Journal   \n",
       "1  Anand, Kanchan; Palm, Gottfried J.; Mesters, J...  The EMBO Journal   \n",
       "\n",
       "                                                 url  \\\n",
       "0  http://europepmc.org/articles/pmc125375?pdf=re...   \n",
       "1  http://europepmc.org/articles/pmc126080?pdf=re...   \n",
       "\n",
       "                                   paper_id discussion  \\\n",
       "0  e3d0d482ebd9a8ba81c254cc433f314142e72174        NaN   \n",
       "1  cf584e00f637cbd8f1bb35f3f09f5ed07b71aeb0        NaN   \n",
       "\n",
       "                                           text_body  \n",
       "0  Carcinoembryonic antigen (CEA; CD66e) was init...  \n",
       "1  Transmissible gastroenteritis virus (TGEV) bel...  "
      ]
     },
     "execution_count": 17,
     "metadata": {},
     "output_type": "execute_result"
    }
   ],
   "source": [
    "# Concatenation\n",
    "coronavirus = pd.concat([corona1, corona2], ignore_index=True)\n",
    "coronavirus.head(2)"
   ]
  },
  {
   "cell_type": "code",
   "execution_count": 18,
   "metadata": {},
   "outputs": [
    {
     "data": {
      "text/plain": [
       "(23220, 10)"
      ]
     },
     "execution_count": 18,
     "metadata": {},
     "output_type": "execute_result"
    }
   ],
   "source": [
    "# Total number of rows\n",
    "coronavirus.shape"
   ]
  },
  {
   "cell_type": "code",
   "execution_count": 19,
   "metadata": {},
   "outputs": [
    {
     "data": {
      "text/plain": [
       "source              0\n",
       "title               0\n",
       "abstract         2491\n",
       "publish_time        0\n",
       "authors            77\n",
       "journal          4814\n",
       "url               203\n",
       "paper_id            0\n",
       "discussion      12147\n",
       "text_body           0\n",
       "dtype: int64"
      ]
     },
     "execution_count": 19,
     "metadata": {},
     "output_type": "execute_result"
    }
   ],
   "source": [
    "# Missing values - no missing title or paper ids\n",
    "coronavirus.isnull().sum()"
   ]
  },
  {
   "cell_type": "code",
   "execution_count": 20,
   "metadata": {},
   "outputs": [
    {
     "data": {
      "text/plain": [
       "(15549, 10)"
      ]
     },
     "execution_count": 20,
     "metadata": {},
     "output_type": "execute_result"
    }
   ],
   "source": [
    "# Drop any duplicates \n",
    "coronavirus.drop_duplicates(subset='paper_id', inplace=True)\n",
    "coronavirus.shape"
   ]
  },
  {
   "cell_type": "markdown",
   "metadata": {},
   "source": [
    "## Save as csv file"
   ]
  },
  {
   "cell_type": "code",
   "execution_count": 21,
   "metadata": {},
   "outputs": [],
   "source": [
    "coronavirus.to_csv('merged_filtered_articles.csv', index=False)"
   ]
  }
 ],
 "metadata": {
  "kernelspec": {
   "display_name": "Python 3",
   "language": "python",
   "name": "python3"
  },
  "language_info": {
   "codemirror_mode": {
    "name": "ipython",
    "version": 3
   },
   "file_extension": ".py",
   "mimetype": "text/x-python",
   "name": "python",
   "nbconvert_exporter": "python",
   "pygments_lexer": "ipython3",
   "version": "3.7.6"
  }
 },
 "nbformat": 4,
 "nbformat_minor": 4
}
