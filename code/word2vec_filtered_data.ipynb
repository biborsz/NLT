{
 "cells": [
  {
   "cell_type": "markdown",
   "metadata": {},
   "source": [
    "## Imports"
   ]
  },
  {
   "cell_type": "code",
   "execution_count": 1,
   "metadata": {},
   "outputs": [],
   "source": [
    "import pandas as pd\n",
    "import numpy as np\n",
    "\n",
    "import regex as re\n",
    "from nltk.tokenize import RegexpTokenizer\n",
    "from gensim.models.word2vec import Word2Vec"
   ]
  },
  {
   "cell_type": "markdown",
   "metadata": {},
   "source": [
    "## Read in data"
   ]
  },
  {
   "cell_type": "code",
   "execution_count": 2,
   "metadata": {
    "scrolled": true
   },
   "outputs": [
    {
     "data": {
      "text/html": [
       "<div>\n",
       "<style scoped>\n",
       "    .dataframe tbody tr th:only-of-type {\n",
       "        vertical-align: middle;\n",
       "    }\n",
       "\n",
       "    .dataframe tbody tr th {\n",
       "        vertical-align: top;\n",
       "    }\n",
       "\n",
       "    .dataframe thead th {\n",
       "        text-align: right;\n",
       "    }\n",
       "</style>\n",
       "<table border=\"1\" class=\"dataframe\">\n",
       "  <thead>\n",
       "    <tr style=\"text-align: right;\">\n",
       "      <th></th>\n",
       "      <th>source</th>\n",
       "      <th>title</th>\n",
       "      <th>abstract</th>\n",
       "      <th>publish_time</th>\n",
       "      <th>authors</th>\n",
       "      <th>journal</th>\n",
       "      <th>url</th>\n",
       "      <th>paper_id</th>\n",
       "      <th>discussion</th>\n",
       "      <th>text_body</th>\n",
       "    </tr>\n",
       "  </thead>\n",
       "  <tbody>\n",
       "    <tr>\n",
       "      <th>0</th>\n",
       "      <td>PMC</td>\n",
       "      <td>Crystal structure of murine sCEACAM1a[1,4]: a ...</td>\n",
       "      <td>CEACAM1 is a member of the carcinoembryonic an...</td>\n",
       "      <td>2002-05-01</td>\n",
       "      <td>Tan, Kemin; Zelus, Bruce D.; Meijers, Rob; Liu...</td>\n",
       "      <td>The EMBO Journal</td>\n",
       "      <td>http://europepmc.org/articles/pmc125375?pdf=re...</td>\n",
       "      <td>e3d0d482ebd9a8ba81c254cc433f314142e72174</td>\n",
       "      <td>NaN</td>\n",
       "      <td>Carcinoembryonic antigen (CEA; CD66e) was init...</td>\n",
       "    </tr>\n",
       "    <tr>\n",
       "      <th>1</th>\n",
       "      <td>PMC</td>\n",
       "      <td>Structure of coronavirus main proteinase revea...</td>\n",
       "      <td>The key enzyme in coronavirus polyprotein proc...</td>\n",
       "      <td>2002-07-01</td>\n",
       "      <td>Anand, Kanchan; Palm, Gottfried J.; Mesters, J...</td>\n",
       "      <td>The EMBO Journal</td>\n",
       "      <td>http://europepmc.org/articles/pmc126080?pdf=re...</td>\n",
       "      <td>cf584e00f637cbd8f1bb35f3f09f5ed07b71aeb0</td>\n",
       "      <td>NaN</td>\n",
       "      <td>Transmissible gastroenteritis virus (TGEV) bel...</td>\n",
       "    </tr>\n",
       "  </tbody>\n",
       "</table>\n",
       "</div>"
      ],
      "text/plain": [
       "  source                                              title  \\\n",
       "0    PMC  Crystal structure of murine sCEACAM1a[1,4]: a ...   \n",
       "1    PMC  Structure of coronavirus main proteinase revea...   \n",
       "\n",
       "                                            abstract publish_time  \\\n",
       "0  CEACAM1 is a member of the carcinoembryonic an...   2002-05-01   \n",
       "1  The key enzyme in coronavirus polyprotein proc...   2002-07-01   \n",
       "\n",
       "                                             authors           journal  \\\n",
       "0  Tan, Kemin; Zelus, Bruce D.; Meijers, Rob; Liu...  The EMBO Journal   \n",
       "1  Anand, Kanchan; Palm, Gottfried J.; Mesters, J...  The EMBO Journal   \n",
       "\n",
       "                                                 url  \\\n",
       "0  http://europepmc.org/articles/pmc125375?pdf=re...   \n",
       "1  http://europepmc.org/articles/pmc126080?pdf=re...   \n",
       "\n",
       "                                   paper_id discussion  \\\n",
       "0  e3d0d482ebd9a8ba81c254cc433f314142e72174        NaN   \n",
       "1  cf584e00f637cbd8f1bb35f3f09f5ed07b71aeb0        NaN   \n",
       "\n",
       "                                           text_body  \n",
       "0  Carcinoembryonic antigen (CEA; CD66e) was init...  \n",
       "1  Transmissible gastroenteritis virus (TGEV) bel...  "
      ]
     },
     "execution_count": 2,
     "metadata": {},
     "output_type": "execute_result"
    }
   ],
   "source": [
    "articles = pd.read_csv('merged_filtered_articles.csv')\n",
    "articles.head(2)"
   ]
  },
  {
   "cell_type": "markdown",
   "metadata": {},
   "source": [
    "## Tokenize text data"
   ]
  },
  {
   "cell_type": "code",
   "execution_count": 3,
   "metadata": {},
   "outputs": [],
   "source": [
    "# Function that strips text of leading and trailing punctuation\n",
    "import string\n",
    "\n",
    "def strip_punc(list_of_words):\n",
    "    return [word.strip(string.punctuation) for word in list_of_words]"
   ]
  },
  {
   "cell_type": "code",
   "execution_count": 4,
   "metadata": {},
   "outputs": [],
   "source": [
    "# Function that lowercases, tokenizes, and strips the text of any trailing punctuation\n",
    "\n",
    "def clean_text(text):\n",
    "    # Cast text as string (floats in body text)\n",
    "    text = str(text)\n",
    "    \n",
    "    # Lowercase all words\n",
    "    lower = text.lower()\n",
    "    \n",
    "    # Tokenizes by whitespace\n",
    "    tokenizer = RegexpTokenizer('\\s+', gaps=True)\n",
    "    tokens = tokenizer.tokenize(lower)\n",
    "    \n",
    "    # Strip leading and trailing punctuation\n",
    "    tokens_stripped = strip_punc(tokens)\n",
    "    \n",
    "    # Return tokens stripped of trailing punctuation\n",
    "    return tokens_stripped"
   ]
  },
  {
   "cell_type": "code",
   "execution_count": 5,
   "metadata": {},
   "outputs": [],
   "source": [
    "# Tokenize titles\n",
    "articles['title'] = articles['title'].map(clean_text)\n",
    "\n",
    "# Tokenize abstract\n",
    "articles['abstract'] = articles['abstract'].map(clean_text)\n",
    "\n",
    "# Tokenize body text\n",
    "articles['text_body'] = articles['text_body'].map(clean_text)"
   ]
  },
  {
   "cell_type": "code",
   "execution_count": 6,
   "metadata": {},
   "outputs": [
    {
     "data": {
      "text/html": [
       "<div>\n",
       "<style scoped>\n",
       "    .dataframe tbody tr th:only-of-type {\n",
       "        vertical-align: middle;\n",
       "    }\n",
       "\n",
       "    .dataframe tbody tr th {\n",
       "        vertical-align: top;\n",
       "    }\n",
       "\n",
       "    .dataframe thead th {\n",
       "        text-align: right;\n",
       "    }\n",
       "</style>\n",
       "<table border=\"1\" class=\"dataframe\">\n",
       "  <thead>\n",
       "    <tr style=\"text-align: right;\">\n",
       "      <th></th>\n",
       "      <th>source</th>\n",
       "      <th>title</th>\n",
       "      <th>abstract</th>\n",
       "      <th>publish_time</th>\n",
       "      <th>authors</th>\n",
       "      <th>journal</th>\n",
       "      <th>url</th>\n",
       "      <th>paper_id</th>\n",
       "      <th>discussion</th>\n",
       "      <th>text_body</th>\n",
       "    </tr>\n",
       "  </thead>\n",
       "  <tbody>\n",
       "    <tr>\n",
       "      <th>0</th>\n",
       "      <td>PMC</td>\n",
       "      <td>[crystal, structure, of, murine, sceacam1a[1,4...</td>\n",
       "      <td>[ceacam1, is, a, member, of, the, carcinoembry...</td>\n",
       "      <td>2002-05-01</td>\n",
       "      <td>Tan, Kemin; Zelus, Bruce D.; Meijers, Rob; Liu...</td>\n",
       "      <td>The EMBO Journal</td>\n",
       "      <td>http://europepmc.org/articles/pmc125375?pdf=re...</td>\n",
       "      <td>e3d0d482ebd9a8ba81c254cc433f314142e72174</td>\n",
       "      <td>NaN</td>\n",
       "      <td>[carcinoembryonic, antigen, cea, cd66e, was, i...</td>\n",
       "    </tr>\n",
       "    <tr>\n",
       "      <th>1</th>\n",
       "      <td>PMC</td>\n",
       "      <td>[structure, of, coronavirus, main, proteinase,...</td>\n",
       "      <td>[the, key, enzyme, in, coronavirus, polyprotei...</td>\n",
       "      <td>2002-07-01</td>\n",
       "      <td>Anand, Kanchan; Palm, Gottfried J.; Mesters, J...</td>\n",
       "      <td>The EMBO Journal</td>\n",
       "      <td>http://europepmc.org/articles/pmc126080?pdf=re...</td>\n",
       "      <td>cf584e00f637cbd8f1bb35f3f09f5ed07b71aeb0</td>\n",
       "      <td>NaN</td>\n",
       "      <td>[transmissible, gastroenteritis, virus, tgev, ...</td>\n",
       "    </tr>\n",
       "  </tbody>\n",
       "</table>\n",
       "</div>"
      ],
      "text/plain": [
       "  source                                              title  \\\n",
       "0    PMC  [crystal, structure, of, murine, sceacam1a[1,4...   \n",
       "1    PMC  [structure, of, coronavirus, main, proteinase,...   \n",
       "\n",
       "                                            abstract publish_time  \\\n",
       "0  [ceacam1, is, a, member, of, the, carcinoembry...   2002-05-01   \n",
       "1  [the, key, enzyme, in, coronavirus, polyprotei...   2002-07-01   \n",
       "\n",
       "                                             authors           journal  \\\n",
       "0  Tan, Kemin; Zelus, Bruce D.; Meijers, Rob; Liu...  The EMBO Journal   \n",
       "1  Anand, Kanchan; Palm, Gottfried J.; Mesters, J...  The EMBO Journal   \n",
       "\n",
       "                                                 url  \\\n",
       "0  http://europepmc.org/articles/pmc125375?pdf=re...   \n",
       "1  http://europepmc.org/articles/pmc126080?pdf=re...   \n",
       "\n",
       "                                   paper_id discussion  \\\n",
       "0  e3d0d482ebd9a8ba81c254cc433f314142e72174        NaN   \n",
       "1  cf584e00f637cbd8f1bb35f3f09f5ed07b71aeb0        NaN   \n",
       "\n",
       "                                           text_body  \n",
       "0  [carcinoembryonic, antigen, cea, cd66e, was, i...  \n",
       "1  [transmissible, gastroenteritis, virus, tgev, ...  "
      ]
     },
     "execution_count": 6,
     "metadata": {},
     "output_type": "execute_result"
    }
   ],
   "source": [
    "articles.head(2)"
   ]
  },
  {
   "cell_type": "markdown",
   "metadata": {},
   "source": [
    "## Word2Vec Model - CBOW"
   ]
  },
  {
   "cell_type": "code",
   "execution_count": 7,
   "metadata": {},
   "outputs": [],
   "source": [
    "# Train a Word2Vec model on body text using bag of words\n",
    "\n",
    "model = Word2Vec(articles['text_body'],\n",
    "                 min_count=1,\n",
    "                 workers=4)"
   ]
  },
  {
   "cell_type": "code",
   "execution_count": 8,
   "metadata": {},
   "outputs": [
    {
     "data": {
      "text/plain": [
       "[('cov', 0.8692415952682495),\n",
       " ('coronaviruses', 0.7392231225967407),\n",
       " ('betacoronavirus', 0.6885976195335388),\n",
       " ('coronaviral', 0.6696343421936035),\n",
       " ('covs', 0.6676793098449707),\n",
       " ('preprintdesigning', 0.6473985910415649),\n",
       " ('coronavirus-china.hypoxemia', 0.6204733848571777),\n",
       " ('sars-coronavirus', 0.6188088059425354),\n",
       " ('corona-virus', 0.610124409198761),\n",
       " ('virus', 0.6073490381240845),\n",
       " ('beta-coronavirus', 0.5982087254524231),\n",
       " ('β-coronavirus', 0.5929840207099915),\n",
       " ('kobuvirus', 0.587209939956665),\n",
       " ('hcov', 0.5823780298233032),\n",
       " ('sars-cov', 0.5814834237098694),\n",
       " ('henipavirus', 0.5751717686653137),\n",
       " ('alphacoronavirus', 0.5709920525550842),\n",
       " ('ncov-19,the', 0.5706366896629333),\n",
       " ('betacov', 0.5705119371414185),\n",
       " ('viral', 0.5690200924873352),\n",
       " ('paramyxovirus', 0.5684882402420044),\n",
       " ('torovirus', 0.565484344959259),\n",
       " ('hcov-emc', 0.5619979500770569),\n",
       " ('negative.defined', 0.5616637468338013),\n",
       " ('filovirus', 0.556121826171875)]"
      ]
     },
     "execution_count": 8,
     "metadata": {},
     "output_type": "execute_result"
    }
   ],
   "source": [
    "model.wv.most_similar('coronavirus', topn=25)"
   ]
  },
  {
   "cell_type": "code",
   "execution_count": 12,
   "metadata": {},
   "outputs": [
    {
     "data": {
      "text/plain": [
       "(10730671, 13470080)"
      ]
     },
     "execution_count": 12,
     "metadata": {},
     "output_type": "execute_result"
    }
   ],
   "source": [
    "# Update model with words from abstract\n",
    "# https://www.machinelearningplus.com/nlp/gensim-tutorial/#15howtoupdateanexistingword2vecmodelwithnewdata\n",
    "\n",
    "model.build_vocab(articles['abstract'], update=True)\n",
    "model.train(articles['abstract'],\n",
    "            total_examples = model.corpus_count,\n",
    "            epochs = model.epochs)"
   ]
  },
  {
   "cell_type": "code",
   "execution_count": 13,
   "metadata": {},
   "outputs": [
    {
     "data": {
      "text/plain": [
       "[('cov', 0.7612472772598267),\n",
       " ('preprintdesigning', 0.6432745456695557),\n",
       " ('corona-virus', 0.6327853202819824),\n",
       " ('eoronavirus', 0.6172501444816589),\n",
       " ('coronaviruses', 0.6105033159255981),\n",
       " ('betacoronavirus', 0.6028242111206055),\n",
       " ('coronaviral', 0.6002240777015686),\n",
       " ('beta-coronavirus', 0.5967655181884766),\n",
       " ('kobuvirus', 0.5890163779258728),\n",
       " ('sars-coronavirus', 0.5869377851486206),\n",
       " ('β-coronavirus', 0.585595428943634),\n",
       " ('coronavirus.the', 0.5662718415260315),\n",
       " ('virus', 0.565331757068634),\n",
       " ('coronavirus-china.hypoxemia', 0.5557613372802734),\n",
       " ('available.spike', 0.5557141900062561),\n",
       " ('negative.defined', 0.5533357858657837),\n",
       " ('coronavirus\"all', 0.5406161546707153),\n",
       " ('alphacoronavirus', 0.5374699831008911),\n",
       " ('parvovirus', 0.5236529111862183),\n",
       " ('betacov', 0.5220209360122681),\n",
       " ('calicivirus', 0.5193199515342712),\n",
       " ('hcov-emc', 0.5166037082672119),\n",
       " ('filovirus', 0.5147768259048462),\n",
       " ('covs', 0.5146432518959045),\n",
       " ('henipavirus', 0.5111933350563049)]"
      ]
     },
     "execution_count": 13,
     "metadata": {},
     "output_type": "execute_result"
    }
   ],
   "source": [
    "model.wv.most_similar('coronavirus', topn=25)"
   ]
  },
  {
   "cell_type": "markdown",
   "metadata": {},
   "source": [
    "## Word2Vec Model - SkipGram"
   ]
  },
  {
   "cell_type": "code",
   "execution_count": 10,
   "metadata": {},
   "outputs": [],
   "source": [
    "# Train Word2Vec model on body text using SkipGram\n",
    "\n",
    "model2 = Word2Vec(articles['text_body'],\n",
    "                  min_count=1,\n",
    "                  sg=1,\n",
    "                  workers=4)"
   ]
  },
  {
   "cell_type": "code",
   "execution_count": 11,
   "metadata": {},
   "outputs": [
    {
     "data": {
      "text/plain": [
       "[('cov', 0.8551164865493774),\n",
       " ('coronaviruses', 0.7946915626525879),\n",
       " ('sarscoronavirus', 0.7800401449203491),\n",
       " ('sars-coronavirus', 0.7679806351661682),\n",
       " ('sarscov-2', 0.7635361552238464),\n",
       " ('coronavirus.the', 0.7550227642059326),\n",
       " ('sars-ncov', 0.7525564432144165),\n",
       " ('sarscov2', 0.7520612478256226),\n",
       " ('betacoronavirus', 0.7496750950813293),\n",
       " ('hecv', 0.7488572001457214),\n",
       " ('sars-cov', 0.7478749752044678),\n",
       " ('coronavirus.a', 0.7467749714851379),\n",
       " ('beta-coronavirus', 0.746642529964447),\n",
       " ('betacov', 0.7464969158172607),\n",
       " ('coronaviral', 0.743518590927124),\n",
       " ('sarsassociated', 0.7423727512359619),\n",
       " ('corona', 0.7416399121284485),\n",
       " ('hypervirulent', 0.7405579090118408),\n",
       " ('h-cov', 0.7396107912063599),\n",
       " ('coronavims', 0.739063560962677),\n",
       " ('hcov)-229e', 0.7387552261352539),\n",
       " ('coronavirus-2', 0.7384424805641174),\n",
       " ('bocov', 0.738169252872467),\n",
       " ('corona-virus', 0.7380975484848022),\n",
       " ('virus', 0.7364841103553772)]"
      ]
     },
     "execution_count": 11,
     "metadata": {},
     "output_type": "execute_result"
    }
   ],
   "source": [
    "model2.wv.most_similar('coronavirus', topn=25)"
   ]
  },
  {
   "cell_type": "code",
   "execution_count": 14,
   "metadata": {},
   "outputs": [
    {
     "data": {
      "text/plain": [
       "(10729853, 13470080)"
      ]
     },
     "execution_count": 14,
     "metadata": {},
     "output_type": "execute_result"
    }
   ],
   "source": [
    "# Update model with words from abstract\n",
    "\n",
    "model2.build_vocab(articles['abstract'], update=True)\n",
    "model2.train(articles['abstract'],\n",
    "             total_examples = model2.corpus_count,\n",
    "             epochs = model2.epochs)"
   ]
  },
  {
   "cell_type": "code",
   "execution_count": 15,
   "metadata": {},
   "outputs": [
    {
     "data": {
      "text/plain": [
       "[('cov', 0.854965090751648),\n",
       " ('sarscoronavirus', 0.8060474991798401),\n",
       " ('virus', 0.8028204441070557),\n",
       " ('cov-sars', 0.7906704545021057),\n",
       " ('corona-virus', 0.7903923988342285),\n",
       " ('sar-cov-2', 0.7901962995529175),\n",
       " ('coronavirus.the', 0.7863421440124512),\n",
       " ('navirus', 0.7827399969100952),\n",
       " ('bocov', 0.7815808653831482),\n",
       " ('sarscov-2', 0.7806040048599243),\n",
       " ('mers--cov', 0.7787435054779053),\n",
       " ('mcov', 0.7784234881401062),\n",
       " ('sars)-cov', 0.7772793769836426),\n",
       " ('new-emerging', 0.7769531011581421),\n",
       " ('syndromeassociated', 0.7758957147598267),\n",
       " ('h-cov', 0.7744204998016357),\n",
       " ('cornavirus', 0.7719203233718872),\n",
       " ('viruses.since', 0.7712740898132324),\n",
       " ('co-v', 0.7698397040367126),\n",
       " ('hcov)-229e', 0.7696917653083801),\n",
       " ('sarsassociated', 0.7682657837867737),\n",
       " ('coronavims', 0.7671185731887817),\n",
       " ('editor-the', 0.7669306993484497),\n",
       " ('syndrome-coronavirus-2', 0.7668635845184326),\n",
       " ('sarscov2', 0.7661660313606262)]"
      ]
     },
     "execution_count": 15,
     "metadata": {},
     "output_type": "execute_result"
    }
   ],
   "source": [
    "model2.wv.most_similar('coronavirus', topn=25)"
   ]
  },
  {
   "cell_type": "code",
   "execution_count": null,
   "metadata": {},
   "outputs": [],
   "source": []
  },
  {
   "cell_type": "code",
   "execution_count": null,
   "metadata": {},
   "outputs": [],
   "source": []
  }
 ],
 "metadata": {
  "kernelspec": {
   "display_name": "Python 3",
   "language": "python",
   "name": "python3"
  },
  "language_info": {
   "codemirror_mode": {
    "name": "ipython",
    "version": 3
   },
   "file_extension": ".py",
   "mimetype": "text/x-python",
   "name": "python",
   "nbconvert_exporter": "python",
   "pygments_lexer": "ipython3",
   "version": "3.7.6"
  }
 },
 "nbformat": 4,
 "nbformat_minor": 4
}
