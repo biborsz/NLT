{
 "cells": [
  {
   "cell_type": "code",
   "execution_count": 3,
   "metadata": {},
   "outputs": [],
   "source": [
    "import os\n",
    "import json\n",
    "import numpy as np\n",
    "import pandas as pd"
   ]
  },
  {
   "cell_type": "code",
   "execution_count": 31,
   "metadata": {},
   "outputs": [],
   "source": [
    "directory = './data/comm_use_subset/pdf_json/'"
   ]
  },
  {
   "cell_type": "code",
   "execution_count": 6,
   "metadata": {},
   "outputs": [],
   "source": [
    "# A function to make a list of all the json text from the files\n",
    "# the \"directory\" should be the path to the folder containing the json pdfs\n",
    "# e.g. directory = './data/comm_use_subset/pdf_json/'\n",
    "\n",
    "def load_files(directory):\n",
    "    filenames = os.listdir(directory)\n",
    "    all_files = []\n",
    "    for filename in filenames:\n",
    "        filename = directory + filename\n",
    "        file = json.load(open(filename, 'rb'))\n",
    "        all_files.append(file)\n",
    "    return all_files\n",
    "\n",
    "\n",
    "# A function to return the discussion section of the body into its own feature\n",
    "\n",
    "def get_discussion_text(all_files):\n",
    "    discussion = []\n",
    "    for i in file['body_text']:\n",
    "        if i['section'].lower() == 'discussion':\n",
    "            discussion.append(i['text'])\n",
    "        else:\n",
    "            pass\n",
    "    return ''.join(discussion)\n",
    "\n",
    "\n",
    "# A function to return the body, minus discussion section, into its own feature\n",
    "\n",
    "def get_other_text(files):\n",
    "    other_text = []\n",
    "    for i in file['body_text']:\n",
    "        if i['section'].lower() != 'discussion':\n",
    "            other_text.append(i['text'])\n",
    "        else:\n",
    "            pass\n",
    "    return ''.join(other_text)\n",
    "\n",
    "\n",
    "# A function to iterate through the files to extract features and create a dataframe\n",
    "\n",
    "def parse_text(files):\n",
    "    clean_files = []\n",
    "    for file in files:\n",
    "        features = [\n",
    "            file['paper_id'],\n",
    "            file['metadata']['title'],\n",
    "            get_discussion_text(file),\n",
    "            get_other_text(file)\n",
    "        ]\n",
    "        \n",
    "        clean_files.append(features)\n",
    "        \n",
    "    column_names = ['paper_id', 'title', 'discussion', 'text_body']\n",
    "    df = pd.DataFrame(clean_files, columns = column_names)\n",
    "    return df.head()"
   ]
  },
  {
   "cell_type": "code",
   "execution_count": null,
   "metadata": {},
   "outputs": [],
   "source": [
    "all_files = load_files('./data/comm_use_subset/pdf_json/')"
   ]
  },
  {
   "cell_type": "code",
   "execution_count": null,
   "metadata": {},
   "outputs": [],
   "source": [
    "df = parse_text(all_files)"
   ]
  },
  {
   "cell_type": "markdown",
   "metadata": {},
   "source": [
    "## The below functions are not needed\n",
    "#### They were useful in exploring how to extract features and create a dataframe"
   ]
  },
  {
   "cell_type": "code",
   "execution_count": 242,
   "metadata": {},
   "outputs": [],
   "source": [
    "# the below, commented function returned a dictionary from the body text, but\n",
    "# is no longer needed\n",
    "\n",
    "# # A function to return a dictionary made from all the 'body' text of the files\n",
    "# def get_body(file):\n",
    "#     sections = [file['body_text'][i]['section'] for i in range(len(file['body_text']))]\n",
    "#     body = [file['body_text'][i]['text'] for i in range(len(file['body_text']))]\n",
    "#     text_dictionary = dict(zip(sections,body))\n",
    "#     return text_dictionary"
   ]
  },
  {
   "cell_type": "code",
   "execution_count": 233,
   "metadata": {},
   "outputs": [],
   "source": [
    "# A function to return a dictionary made from the 'abstract' section of the files\n",
    "# def get_abstract(file):\n",
    "#     for i in file\n",
    "#     sections = [file['abstract'][i]['section'] for i in range(len(file['abstract']))]\n",
    "#     body = [file['abstract'][i]['text'] for i in range(len(file['abstract']))]\n",
    "#     abstract_dictionary = list(zip(sections,body))\n",
    "#     return abstract_dictionary"
   ]
  },
  {
   "cell_type": "code",
   "execution_count": 140,
   "metadata": {},
   "outputs": [],
   "source": [
    "# # A function to return a dictionary of authors for each journal\n",
    "# def get_authors(file):\n",
    "#     names = []\n",
    "#     for i in range(len('authors')):   \n",
    "#         first = file['metadata']['authors'][i]['first']\n",
    "#         last = file['metadata']['authors'][i]['last']\n",
    "#         name = \", \".join([last, first])\n",
    "#         names.append(name)\n",
    "#     name_dict = {}\n",
    "#     name_dict['authors'] = names\n",
    "#     return name_dict"
   ]
  },
  {
   "cell_type": "code",
   "execution_count": 228,
   "metadata": {},
   "outputs": [],
   "source": [
    "# def get_author(authors):\n",
    "#     names = []\n",
    "#     for i in authors:\n",
    "#         name = (i['first'] + ' ' + i['last'])\n",
    "#         names.append(name)\n",
    "#     return names"
   ]
  }
 ],
 "metadata": {
  "kernelspec": {
   "display_name": "Python [conda env:dsi] *",
   "language": "python",
   "name": "conda-env-dsi-py"
  },
  "language_info": {
   "codemirror_mode": {
    "name": "ipython",
    "version": 3
   },
   "file_extension": ".py",
   "mimetype": "text/x-python",
   "name": "python",
   "nbconvert_exporter": "python",
   "pygments_lexer": "ipython3",
   "version": "3.7.6"
  },
  "varInspector": {
   "cols": {
    "lenName": 16,
    "lenType": 16,
    "lenVar": 40
   },
   "kernels_config": {
    "python": {
     "delete_cmd_postfix": "",
     "delete_cmd_prefix": "del ",
     "library": "var_list.py",
     "varRefreshCmd": "print(var_dic_list())"
    },
    "r": {
     "delete_cmd_postfix": ") ",
     "delete_cmd_prefix": "rm(",
     "library": "var_list.r",
     "varRefreshCmd": "cat(var_dic_list()) "
    }
   },
   "types_to_exclude": [
    "module",
    "function",
    "builtin_function_or_method",
    "instance",
    "_Feature"
   ],
   "window_display": false
  }
 },
 "nbformat": 4,
 "nbformat_minor": 4
}
